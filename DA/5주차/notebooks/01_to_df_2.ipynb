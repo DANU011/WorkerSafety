{
 "cells": [
  {
   "cell_type": "code",
   "execution_count": 2,
   "outputs": [],
   "source": [
    "import pandas as pd"
   ],
   "metadata": {
    "collapsed": false,
    "ExecuteTime": {
     "end_time": "2023-05-26T00:47:35.835122Z",
     "start_time": "2023-05-26T00:47:35.560192Z"
    }
   }
  },
  {
   "cell_type": "code",
   "execution_count": 3,
   "outputs": [
    {
     "name": "stdout",
     "output_type": "stream",
     "text": [
      "   UserCode    Label  GyroX  GyroY     GyroZ  Temperature  Heatbeat   \n",
      "0       8.0  Walking   5.41  13.21 -4.630918         36.8      94.0  \\\n",
      "1       8.0  Walking   6.74   8.16  0.953424         36.9      93.0   \n",
      "2       8.0  Walking   5.33   5.37 -2.792171         36.9      91.0   \n",
      "3       8.0  Walking   3.38   8.54 -1.525479         36.8      93.0   \n",
      "4       8.0  Walking   1.73   9.11 -0.994285         36.7      93.0   \n",
      "\n",
      "         Lat         Lng   No      time  \n",
      "0  35.235809  129.077699  1.0  00:00:00  \n",
      "1  35.235969  129.077695  2.0  00:00:02  \n",
      "2  35.235999  129.077640  3.0  00:00:04  \n",
      "3  35.235998  129.077793  4.0  00:00:06  \n",
      "4  35.235855  129.077650  5.0  00:00:08  \n"
     ]
    },
    {
     "name": "stderr",
     "output_type": "stream",
     "text": [
      "C:\\Users\\SW402-08\\AppData\\Local\\Temp\\ipykernel_9612\\2819098059.py:5: DtypeWarning: Columns (1) have mixed types. Specify dtype option on import or set low_memory=False.\n",
      "  df = pd.read_csv(csv_file)\n"
     ]
    }
   ],
   "source": [
    "# CSV 파일 경로\n",
    "csv_file = '../data/data_adl_fall_time2.csv'\n",
    "\n",
    "# CSV 파일을 DataFrame으로 읽어오기\n",
    "df = pd.read_csv(csv_file)\n",
    "\n",
    "# DataFrame 확인\n",
    "print(df.head())"
   ],
   "metadata": {
    "collapsed": false,
    "ExecuteTime": {
     "end_time": "2023-05-26T00:47:37.444058500Z",
     "start_time": "2023-05-26T00:47:37.040348400Z"
    }
   }
  },
  {
   "cell_type": "code",
   "execution_count": null,
   "outputs": [],
   "source": [],
   "metadata": {
    "collapsed": false
   }
  }
 ],
 "metadata": {
  "kernelspec": {
   "display_name": "Python 3",
   "language": "python",
   "name": "python3"
  },
  "language_info": {
   "codemirror_mode": {
    "name": "ipython",
    "version": 2
   },
   "file_extension": ".py",
   "mimetype": "text/x-python",
   "name": "python",
   "nbconvert_exporter": "python",
   "pygments_lexer": "ipython2",
   "version": "2.7.6"
  }
 },
 "nbformat": 4,
 "nbformat_minor": 0
}
