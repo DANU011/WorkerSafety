{
 "cells": [
  {
   "cell_type": "code",
   "execution_count": null,
   "metadata": {
    "collapsed": true,
    "is_executing": true
   },
   "outputs": [],
   "source": [
    "import numpy as np\n",
    "import matplotlib.pyplot as plt\n",
    "\n",
    "# 체온과 맥박 데이터 예시\n",
    "temperature = [36.6, 36.6, 36.6, 36.9, 37.0, 37.5, 37.6, 37.6, 37.5, 37.6]\n",
    "heart_rate = [70, 72, 75, 76, 78, 100, 102, 105, 108, 110]\n",
    "\n",
    "# x축 시간 데이터 생성 (예시로 20초 간격으로 데이터가 기록되었다고 가정)\n",
    "time = np.arange(0, len(temperature) * 20, 20)\n",
    "\n",
    "# 서브플롯 설정\n",
    "fig, axes = plt.subplots(2, 1, figsize=(8, 6))\n",
    "\n",
    "# 첫 번째 서브플롯에 체온 그래프 그리기\n",
    "axes[0].plot(time, temperature, 'r')\n",
    "axes[0].set_ylabel('Temperature')\n",
    "\n",
    "# 두 번째 서브플롯에 맥박 그래프 그리기\n",
    "axes[1].plot(time, heart_rate, 'b')\n",
    "axes[1].set_xlabel('Time (seconds)')\n",
    "axes[1].set_ylabel('Heart Rate')\n",
    "\n",
    "# 그래프 간격 조정\n",
    "plt.tight_layout()\n",
    "\n",
    "# 그래프 출력\n",
    "plt.show()\n",
    "\n",
    "# 이미지로 저장\n",
    "plt.savefig('graph.png')\n"
   ]
  },
  {
   "cell_type": "markdown",
   "source": [
    "왜때문에 저장하면 흰화면...?"
   ],
   "metadata": {
    "collapsed": false
   }
  },
  {
   "cell_type": "code",
   "execution_count": null,
   "outputs": [],
   "source": [],
   "metadata": {
    "collapsed": false
   }
  }
 ],
 "metadata": {
  "kernelspec": {
   "display_name": "Python 3",
   "language": "python",
   "name": "python3"
  },
  "language_info": {
   "codemirror_mode": {
    "name": "ipython",
    "version": 2
   },
   "file_extension": ".py",
   "mimetype": "text/x-python",
   "name": "python",
   "nbconvert_exporter": "python",
   "pygments_lexer": "ipython2",
   "version": "2.7.6"
  }
 },
 "nbformat": 4,
 "nbformat_minor": 0
}
