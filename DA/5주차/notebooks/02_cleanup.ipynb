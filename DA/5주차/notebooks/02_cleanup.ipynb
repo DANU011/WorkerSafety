{
 "cells": [
  {
   "cell_type": "code",
   "execution_count": 12,
   "outputs": [],
   "source": [
    "import os\n",
    "import pandas as pd\n",
    "from sklearn.preprocessing import StandardScaler\n",
    "from sklearn.model_selection import train_test_split"
   ],
   "metadata": {
    "collapsed": false,
    "ExecuteTime": {
     "end_time": "2023-05-23T01:25:03.127794900Z",
     "start_time": "2023-05-23T01:25:03.116607800Z"
    }
   }
  },
  {
   "cell_type": "code",
   "execution_count": 13,
   "outputs": [
    {
     "data": {
      "text/plain": "   No  Heartbeat  Temperature  Spo2  UserCode     GyroX     GyroY     GyroZ   \n0   1      108.0         36.6  95.0      33.0 -0.040861  4.985047  6.510526  \\\n1   2      109.0         36.7  99.0      33.0 -0.463092  4.372132  7.436710   \n2   3      111.0         36.6  98.0      33.0 -0.299648  4.603678  6.510526   \n3   4      108.0         36.6  97.0      33.0 -0.272407  4.481094  6.360703   \n4   5      110.0         36.6  98.0      33.0 -1.525479  5.175732  7.164303   \n\n           Time       Label  \n0  4.960000e+13  Downstairs  \n1  4.960000e+13  Downstairs  \n2  4.960000e+13  Downstairs  \n3  4.960000e+13  Downstairs  \n4  4.960000e+13  Downstairs  ",
      "text/html": "<div>\n<style scoped>\n    .dataframe tbody tr th:only-of-type {\n        vertical-align: middle;\n    }\n\n    .dataframe tbody tr th {\n        vertical-align: top;\n    }\n\n    .dataframe thead th {\n        text-align: right;\n    }\n</style>\n<table border=\"1\" class=\"dataframe\">\n  <thead>\n    <tr style=\"text-align: right;\">\n      <th></th>\n      <th>No</th>\n      <th>Heartbeat</th>\n      <th>Temperature</th>\n      <th>Spo2</th>\n      <th>UserCode</th>\n      <th>GyroX</th>\n      <th>GyroY</th>\n      <th>GyroZ</th>\n      <th>Time</th>\n      <th>Label</th>\n    </tr>\n  </thead>\n  <tbody>\n    <tr>\n      <th>0</th>\n      <td>1</td>\n      <td>108.0</td>\n      <td>36.6</td>\n      <td>95.0</td>\n      <td>33.0</td>\n      <td>-0.040861</td>\n      <td>4.985047</td>\n      <td>6.510526</td>\n      <td>4.960000e+13</td>\n      <td>Downstairs</td>\n    </tr>\n    <tr>\n      <th>1</th>\n      <td>2</td>\n      <td>109.0</td>\n      <td>36.7</td>\n      <td>99.0</td>\n      <td>33.0</td>\n      <td>-0.463092</td>\n      <td>4.372132</td>\n      <td>7.436710</td>\n      <td>4.960000e+13</td>\n      <td>Downstairs</td>\n    </tr>\n    <tr>\n      <th>2</th>\n      <td>3</td>\n      <td>111.0</td>\n      <td>36.6</td>\n      <td>98.0</td>\n      <td>33.0</td>\n      <td>-0.299648</td>\n      <td>4.603678</td>\n      <td>6.510526</td>\n      <td>4.960000e+13</td>\n      <td>Downstairs</td>\n    </tr>\n    <tr>\n      <th>3</th>\n      <td>4</td>\n      <td>108.0</td>\n      <td>36.6</td>\n      <td>97.0</td>\n      <td>33.0</td>\n      <td>-0.272407</td>\n      <td>4.481094</td>\n      <td>6.360703</td>\n      <td>4.960000e+13</td>\n      <td>Downstairs</td>\n    </tr>\n    <tr>\n      <th>4</th>\n      <td>5</td>\n      <td>110.0</td>\n      <td>36.6</td>\n      <td>98.0</td>\n      <td>33.0</td>\n      <td>-1.525479</td>\n      <td>5.175732</td>\n      <td>7.164303</td>\n      <td>4.960000e+13</td>\n      <td>Downstairs</td>\n    </tr>\n  </tbody>\n</table>\n</div>"
     },
     "execution_count": 13,
     "metadata": {},
     "output_type": "execute_result"
    }
   ],
   "source": [
    "# CSV 파일이 저장된 디렉토리 경로\n",
    "directory = '../data'\n",
    "\n",
    "# 디렉토리 내의 모든 파일 리스트를 가져옵니다\n",
    "file_list = os.listdir(directory)\n",
    "\n",
    "# \"data_\"가 포함된 CSV 파일들의 경로를 저장할 리스트\n",
    "csv_files = []\n",
    "\n",
    "# 파일 리스트를 순회하면서 \"data_\"가 포함된 CSV 파일을 찾습니다\n",
    "for file in file_list:\n",
    "    if file.endswith(\".csv\") and \"data_\" in file:\n",
    "        csv_files.append(os.path.join(directory, file))\n",
    "\n",
    "# CSV 파일들을 읽어서 DataFrame으로 저장합니다\n",
    "df = pd.concat([pd.read_csv(file) for file in csv_files], ignore_index=True)\n",
    "\n",
    "# 결과 확인\n",
    "df.head()"
   ],
   "metadata": {
    "collapsed": false,
    "ExecuteTime": {
     "end_time": "2023-05-23T01:25:04.827897900Z",
     "start_time": "2023-05-23T01:25:03.749594200Z"
    }
   }
  },
  {
   "cell_type": "code",
   "execution_count": 14,
   "outputs": [
    {
     "data": {
      "text/plain": "No             0\nHeartbeat      1\nTemperature    1\nSpo2           1\nUserCode       1\nGyroX          1\nGyroY          1\nGyroZ          2\nTime           1\nLabel          1\ndtype: int64"
     },
     "execution_count": 14,
     "metadata": {},
     "output_type": "execute_result"
    }
   ],
   "source": [
    "# 결측치 확인\n",
    "df.isnull().sum()"
   ],
   "metadata": {
    "collapsed": false,
    "ExecuteTime": {
     "end_time": "2023-05-23T01:25:05.818701300Z",
     "start_time": "2023-05-23T01:25:05.754295800Z"
    }
   }
  },
  {
   "cell_type": "code",
   "execution_count": 15,
   "outputs": [
    {
     "name": "stdout",
     "output_type": "stream",
     "text": [
      "             No  Heartbeat  Temperature  Spo2  UserCode     GyroX      GyroY   \n",
      "0             1      108.0         36.6  95.0      33.0 -0.040861   4.985047  \\\n",
      "1             2      109.0         36.7  99.0      33.0 -0.463092   4.372132   \n",
      "2             3      111.0         36.6  98.0      33.0 -0.299648   4.603678   \n",
      "3             4      108.0         36.6  97.0      33.0 -0.272407   4.481094   \n",
      "4             5      110.0         36.6  98.0      33.0 -1.525479   5.175732   \n",
      "...         ...        ...          ...   ...       ...       ...        ...   \n",
      "1048570  406772      128.0         36.6  99.0       7.0  5.520000   6.440000   \n",
      "1048571  406773      133.0         36.8  96.0       7.0  2.140000   8.470000   \n",
      "1048572  406774      131.0         36.7  95.0       7.0  6.090000   4.860000   \n",
      "1048573  406775      142.0         36.8  96.0       7.0  5.010000   9.700000   \n",
      "1048574  406776      136.0         36.6  96.0       7.0  4.140000  11.030000   \n",
      "\n",
      "            GyroZ          Time       Label  \n",
      "0        6.510526  4.960000e+13  Downstairs  \n",
      "1        7.436710  4.960000e+13  Downstairs  \n",
      "2        6.510526  4.960000e+13  Downstairs  \n",
      "3        6.360703  4.960000e+13  Downstairs  \n",
      "4        7.164303  4.960000e+13  Downstairs  \n",
      "...           ...           ...         ...  \n",
      "1048570  0.460000  2.085590e+14     Walking  \n",
      "1048571 -0.380000  2.085590e+14     Walking  \n",
      "1048572  0.720000  2.085590e+14     Walking  \n",
      "1048573  0.340000  2.085590e+14     Walking  \n",
      "1048574  1.120000  2.085600e+14     Walking  \n",
      "\n",
      "[1048574 rows x 10 columns]\n"
     ]
    }
   ],
   "source": [
    "# 결측치가 삭제된 DataFrame 생성\n",
    "df_cleaned = df.dropna()\n",
    "\n",
    "# 결과 확인\n",
    "print(df_cleaned)"
   ],
   "metadata": {
    "collapsed": false,
    "ExecuteTime": {
     "end_time": "2023-05-23T01:25:06.723704Z",
     "start_time": "2023-05-23T01:25:06.596841300Z"
    }
   }
  },
  {
   "cell_type": "code",
   "execution_count": 16,
   "outputs": [
    {
     "name": "stdout",
     "output_type": "stream",
     "text": [
      "X_train:\n",
      "         Temperature  Heartbeat  GyroX  GyroY     GyroZ\n",
      "165822          36.6      137.0   5.37  -3.53 -3.718355\n",
      "662751          36.8      137.0   0.42   4.86 -0.040861\n",
      "685875          36.6      141.0   1.12  13.33  2.873893\n",
      "337714          36.6      137.0 -17.86 -16.28  0.420000\n",
      "1045427         36.7      128.0   6.97   6.17 -1.040000\n",
      "...              ...        ...    ...    ...       ...\n",
      "259178          36.7      138.0  -3.98  -5.67  8.540000\n",
      "365838          36.6      142.0   6.09  -3.60 -2.560000\n",
      "131932          36.7      132.0  -1.14  -4.52 -9.697687\n",
      "671155          36.6      141.0   1.69   9.19  0.149824\n",
      "121958          36.7      142.0  -3.68  -2.26 -3.909040\n",
      "\n",
      "[734003 rows x 5 columns]\n",
      "y_train:\n",
      "165822     Jogging\n",
      "662751     Walking\n",
      "685875     Walking\n",
      "337714     Jogging\n",
      "1045427    Walking\n",
      "            ...   \n",
      "259178     Jogging\n",
      "365838     Jogging\n",
      "131932     Jogging\n",
      "671155     Walking\n",
      "121958     Jogging\n",
      "Name: Label, Length: 734003, dtype: object\n",
      "X_test:\n",
      "        Temperature  Heartbeat      GyroX      GyroY      GyroZ\n",
      "462211         36.7      130.0  -4.590000   3.530000   8.120000\n",
      "906600         36.8      138.0   3.790000   9.770000  -2.410000\n",
      "953710         36.7      128.0  -1.500000   6.440000  -0.340000\n",
      "777548         36.7      137.0  -2.140000  12.530000  -2.369940\n",
      "644707         36.8      133.0   6.469665   9.888372  -0.844462\n",
      "...             ...        ...        ...        ...        ...\n",
      "43766          36.6      111.0  -2.180000  12.530000  13.020000\n",
      "876316         36.6      134.0 -12.110000  14.440000  11.370000\n",
      "49012          36.7      110.0   1.080000  10.080000  -2.180000\n",
      "468752         36.8      135.0   4.180000   6.850000  -6.470000\n",
      "105662         36.7      136.0   0.000000   0.000000   0.000000\n",
      "\n",
      "[314573 rows x 5 columns]\n",
      "y_test:\n",
      "462211       Sitting\n",
      "906600       Walking\n",
      "953710       Walking\n",
      "777548       Walking\n",
      "644707       Walking\n",
      "             ...    \n",
      "43766     Downstairs\n",
      "876316       Walking\n",
      "49012     Downstairs\n",
      "468752       Sitting\n",
      "105662       Jogging\n",
      "Name: Label, Length: 314573, dtype: object\n"
     ]
    }
   ],
   "source": [
    "# 특성과 타겟 데이터로 분할\n",
    "X = df[['Temperature','Heartbeat','GyroX','GyroY','GyroZ']]\n",
    "y = df['Label']\n",
    "\n",
    "# 테스트 세트와 트레인 세트로 분할 (70% 트레인, 30% 테스트)\n",
    "X_train, X_test, y_train, y_test = train_test_split(X, y, test_size=0.3, random_state=42)\n",
    "\n",
    "# 결과 확인\n",
    "print(\"X_train:\")\n",
    "print(X_train)\n",
    "print(\"y_train:\")\n",
    "print(y_train)\n",
    "print(\"X_test:\")\n",
    "print(X_test)\n",
    "print(\"y_test:\")\n",
    "print(y_test)"
   ],
   "metadata": {
    "collapsed": false,
    "ExecuteTime": {
     "end_time": "2023-05-23T01:25:08.117244400Z",
     "start_time": "2023-05-23T01:25:07.969992100Z"
    }
   }
  },
  {
   "cell_type": "code",
   "execution_count": 17,
   "outputs": [],
   "source": [
    "# 표준화\n",
    "scaler = StandardScaler()\n",
    "X_train = scaler.fit_transform(X_train)\n",
    "X_test = scaler.transform(X_test)"
   ],
   "metadata": {
    "collapsed": false,
    "ExecuteTime": {
     "end_time": "2023-05-23T01:25:09.282563300Z",
     "start_time": "2023-05-23T01:25:09.118173900Z"
    }
   }
  },
  {
   "cell_type": "code",
   "execution_count": 18,
   "outputs": [
    {
     "name": "stdout",
     "output_type": "stream",
     "text": [
      "          No  Heartbeat  Temperature  Spo2  UserCode    GyroX     GyroY   \n",
      "15795  15796      112.0         36.7  97.0      13.0 -1.50000  6.440000  \\\n",
      "860      861      109.0         36.6  97.0      33.0 -1.56634  8.240311   \n",
      "76820  76821      112.0         36.5  97.0      31.0  7.59000  5.630000   \n",
      "54886  54887      109.0         36.5  99.0      24.0  3.83000  3.060000   \n",
      "6265    6266      110.0         36.6  97.0      20.0  1.31000  7.350000   \n",
      "\n",
      "          GyroZ          Time       Label  \n",
      "15795  1.539099  3.130000e+12  Downstairs  \n",
      "860    0.340509  4.990000e+13  Downstairs  \n",
      "76820 -1.380000  2.480000e+13  Downstairs  \n",
      "54886 -0.110000  1.580000e+13  Downstairs  \n",
      "6265  -0.108963  2.870000e+12  Downstairs  \n"
     ]
    }
   ],
   "source": [
    "# 다운샘플링 csv저장\n",
    "import pandas as pd\n",
    "from sklearn.utils import resample\n",
    "\n",
    "# 각 레이블별로 10,000개씩 랜덤하게 선택하여 저장할 DataFrame 생성\n",
    "df_downsampled = pd.DataFrame()\n",
    "\n",
    "# 레이블별로 반복하여 샘플링 수행\n",
    "for label in df_cleaned['Label'].unique():\n",
    "    # 해당 레이블에 해당하는 데이터 추출\n",
    "    label_data = df_cleaned[df_cleaned['Label'] == label]\n",
    "\n",
    "    # 10,000개씩 랜덤하게 샘플링\n",
    "    sampled_data = resample(label_data, n_samples=10000, random_state=42)\n",
    "\n",
    "    # 샘플링한 데이터를 df_downsampled에 추가\n",
    "    df_downsampled = pd.concat([df_downsampled, sampled_data])\n",
    "\n",
    "# 결과 확인\n",
    "print(df_downsampled.head())\n",
    "\n"
   ],
   "metadata": {
    "collapsed": false,
    "ExecuteTime": {
     "end_time": "2023-05-23T05:55:04.493220100Z",
     "start_time": "2023-05-23T05:54:39.700579100Z"
    }
   }
  },
  {
   "cell_type": "code",
   "execution_count": 20,
   "outputs": [
    {
     "name": "stdout",
     "output_type": "stream",
     "text": [
      "success\n"
     ]
    }
   ],
   "source": [
    "# CSV 파일 경로 지정\n",
    "csv_path = \"../data/downsampled_data.csv\"\n",
    "\n",
    "# df_downsampled DataFrame을 CSV 파일로 저장\n",
    "df_downsampled.to_csv(csv_path, index=False)\n",
    "\n",
    "print('success')"
   ],
   "metadata": {
    "collapsed": false,
    "ExecuteTime": {
     "end_time": "2023-05-23T07:39:27.890915100Z",
     "start_time": "2023-05-23T07:39:27.406654Z"
    }
   }
  },
  {
   "cell_type": "code",
   "execution_count": null,
   "outputs": [],
   "source": [],
   "metadata": {
    "collapsed": false
   }
  }
 ],
 "metadata": {
  "kernelspec": {
   "display_name": "Python 3",
   "language": "python",
   "name": "python3"
  },
  "language_info": {
   "codemirror_mode": {
    "name": "ipython",
    "version": 2
   },
   "file_extension": ".py",
   "mimetype": "text/x-python",
   "name": "python",
   "nbconvert_exporter": "python",
   "pygments_lexer": "ipython2",
   "version": "2.7.6"
  }
 },
 "nbformat": 4,
 "nbformat_minor": 0
}
