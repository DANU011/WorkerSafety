{
 "cells": [
  {
   "cell_type": "code",
   "execution_count": 2,
   "outputs": [],
   "source": [
    "import pandas as pd"
   ],
   "metadata": {
    "collapsed": false,
    "ExecuteTime": {
     "end_time": "2023-05-09T06:19:11.593773200Z",
     "start_time": "2023-05-09T06:19:11.293769500Z"
    }
   }
  },
  {
   "cell_type": "markdown",
   "source": [
    "데이터를 Pandas DataFrame으로 변경"
   ],
   "metadata": {
    "collapsed": false
   }
  },
  {
   "cell_type": "code",
   "execution_count": 1,
   "outputs": [
    {
     "name": "stdout",
     "output_type": "stream",
     "text": [
      "             No  Heartbeat  Temperature  Spo2  UserCode     GyroX      GyroY   \n",
      "0             1      108.0         36.6  95.0      33.0 -0.040861   4.985047  \\\n",
      "1             2      109.0         36.7  99.0      33.0 -0.463092   4.372132   \n",
      "2             3      111.0         36.6  98.0      33.0 -0.299648   4.603678   \n",
      "3             4      108.0         36.6  97.0      33.0 -0.272407   4.481094   \n",
      "4             5      110.0         36.6  98.0      33.0 -1.525479   5.175732   \n",
      "...         ...        ...          ...   ...       ...       ...        ...   \n",
      "1048571  406773      133.0         36.8  96.0       7.0  2.140000   8.470000   \n",
      "1048572  406774      131.0         36.7  95.0       7.0  6.090000   4.860000   \n",
      "1048573  406775      142.0         36.8  96.0       7.0  5.010000   9.700000   \n",
      "1048574  406776      136.0         36.6  96.0       7.0  4.140000  11.030000   \n",
      "1048575  406777        NaN          NaN   NaN       NaN       NaN        NaN   \n",
      "\n",
      "            GyroZ          Time       Label  \n",
      "0        6.510526  4.960000e+13  Downstairs  \n",
      "1        7.436710  4.960000e+13  Downstairs  \n",
      "2        6.510526  4.960000e+13  Downstairs  \n",
      "3        6.360703  4.960000e+13  Downstairs  \n",
      "4        7.164303  4.960000e+13  Downstairs  \n",
      "...           ...           ...         ...  \n",
      "1048571 -0.380000  2.085590e+14     Walking  \n",
      "1048572  0.720000  2.085590e+14     Walking  \n",
      "1048573  0.340000  2.085590e+14     Walking  \n",
      "1048574  1.120000  2.085600e+14     Walking  \n",
      "1048575       NaN           NaN         NaN  \n",
      "\n",
      "[1048576 rows x 10 columns]\n"
     ]
    }
   ],
   "source": [
    "import os\n",
    "import pandas as pd\n",
    "\n",
    "# CSV 파일이 저장된 디렉토리 경로\n",
    "directory = '../data'\n",
    "\n",
    "# 디렉토리 내의 모든 파일 리스트를 가져옵니다\n",
    "file_list = os.listdir(directory)\n",
    "\n",
    "# \"data_\"가 포함된 CSV 파일들의 경로를 저장할 리스트\n",
    "csv_files = []\n",
    "\n",
    "# 파일 리스트를 순회하면서 \"data_\"가 포함된 CSV 파일을 찾습니다\n",
    "for file in file_list:\n",
    "    if file.endswith(\".csv\") and \"data_\" in file:\n",
    "        csv_files.append(os.path.join(directory, file))\n",
    "\n",
    "# CSV 파일들을 읽어서 DataFrame으로 저장합니다\n",
    "df = pd.concat([pd.read_csv(file) for file in csv_files], ignore_index=True)\n",
    "\n",
    "# 결과 확인\n",
    "print(df)"
   ],
   "metadata": {
    "collapsed": false,
    "ExecuteTime": {
     "end_time": "2023-05-23T01:08:54.710111500Z",
     "start_time": "2023-05-23T01:08:53.661013500Z"
    }
   }
  },
  {
   "cell_type": "code",
   "execution_count": null,
   "outputs": [],
   "source": [],
   "metadata": {
    "collapsed": false
   }
  }
 ],
 "metadata": {
  "kernelspec": {
   "display_name": "Python 3",
   "language": "python",
   "name": "python3"
  },
  "language_info": {
   "codemirror_mode": {
    "name": "ipython",
    "version": 2
   },
   "file_extension": ".py",
   "mimetype": "text/x-python",
   "name": "python",
   "nbconvert_exporter": "python",
   "pygments_lexer": "ipython2",
   "version": "2.7.6"
  }
 },
 "nbformat": 4,
 "nbformat_minor": 0
}
