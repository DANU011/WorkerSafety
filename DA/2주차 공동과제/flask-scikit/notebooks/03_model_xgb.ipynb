{
 "nbformat": 4,
 "nbformat_minor": 0,
 "metadata": {
  "colab": {
   "provenance": []
  },
  "kernelspec": {
   "name": "python3",
   "language": "python",
   "display_name": "Python 3 (ipykernel)"
  },
  "language_info": {
   "name": "python"
  }
 },
 "cells": [
  {
   "cell_type": "code",
   "execution_count": 8,
   "metadata": {
    "id": "CskLHP3wFRCk",
    "ExecuteTime": {
     "end_time": "2023-05-10T02:23:47.598681Z",
     "start_time": "2023-05-10T02:23:47.583082600Z"
    }
   },
   "outputs": [],
   "source": [
    "import numpy as np\n",
    "import pandas as pd\n",
    "import xgboost as xgb\n",
    "from sklearn.preprocessing import LabelEncoder\n",
    "from sklearn.preprocessing import StandardScaler\n",
    "from sklearn.metrics import accuracy_score, confusion_matrix, precision_score, recall_score, f1_score, classification_report\n",
    "from sklearn.impute import SimpleImputer"
   ]
  },
  {
   "cell_type": "code",
   "source": [
    "# 데이터 불러오기\n",
    "train_df = pd.read_csv('../data/train.csv')\n",
    "test_df = pd.read_csv('../data/test.csv')\n",
    "\n",
    "# 데이터 확인\n",
    "train_df.head()\n",
    "test_df.head()"
   ],
   "metadata": {
    "colab": {
     "base_uri": "https://localhost:8080/",
     "height": 400
    },
    "id": "rW2eZDsVFUpQ",
    "outputId": "c3317ad1-3498-405b-d848-22ccaffa32fd",
    "ExecuteTime": {
     "end_time": "2023-05-10T02:23:50.767026200Z",
     "start_time": "2023-05-10T02:23:49.859586Z"
    }
   },
   "execution_count": 9,
   "outputs": [
    {
     "data": {
      "text/plain": "   tBodyAcc-mean()-X  tBodyAcc-mean()-Y  tBodyAcc-mean()-Z  tBodyAcc-std()-X   \n0           0.257178          -0.023285          -0.014654         -0.938404  \\\n1           0.286027          -0.013163          -0.119083         -0.975415   \n2           0.275485          -0.026050          -0.118152         -0.993819   \n3           0.270298          -0.032614          -0.117520         -0.994743   \n4           0.274833          -0.027848          -0.129527         -0.993852   \n\n   tBodyAcc-std()-Y  tBodyAcc-std()-Z  tBodyAcc-mad()-X  tBodyAcc-mad()-Y   \n0         -0.920091         -0.667683         -0.952501         -0.925249  \\\n1         -0.967458         -0.944958         -0.986799         -0.968401   \n2         -0.969926         -0.962748         -0.994403         -0.970735   \n3         -0.973268         -0.967091         -0.995274         -0.974471   \n4         -0.967445         -0.978295         -0.994111         -0.965953   \n\n   tBodyAcc-mad()-Z  tBodyAcc-max()-X  ...  fBodyBodyGyroJerkMag-kurtosis()   \n0         -0.674302         -0.894088  ...                        -0.705974  \\\n1         -0.945823         -0.894088  ...                        -0.594944   \n2         -0.963483         -0.939260  ...                        -0.640736   \n3         -0.968897         -0.938610  ...                        -0.736124   \n4         -0.977346         -0.938610  ...                        -0.846595   \n\n   angle(tBodyAccMean,gravity)  angle(tBodyAccJerkMean),gravityMean)   \n0                     0.006462                              0.162920  \\\n1                    -0.083495                              0.017500   \n2                    -0.034956                              0.202302   \n3                    -0.017067                              0.154438   \n4                    -0.002223                             -0.040046   \n\n   angle(tBodyGyroMean,gravityMean)  angle(tBodyGyroJerkMean,gravityMean)   \n0                         -0.825886                              0.271151  \\\n1                         -0.434375                              0.920593   \n2                          0.064103                              0.145068   \n3                          0.340134                              0.296407   \n4                          0.736715                             -0.118545   \n\n   angle(X,gravityMean)  angle(Y,gravityMean)  angle(Z,gravityMean)  subject   \n0             -0.720009              0.276801             -0.057978        2  \\\n1             -0.698091              0.281343             -0.083898        2   \n2             -0.702771              0.280083             -0.079346        2   \n3             -0.698954              0.284114             -0.077108        2   \n4             -0.692245              0.290722             -0.073857        2   \n\n   Activity  \n0  STANDING  \n1  STANDING  \n2  STANDING  \n3  STANDING  \n4  STANDING  \n\n[5 rows x 563 columns]",
      "text/html": "<div>\n<style scoped>\n    .dataframe tbody tr th:only-of-type {\n        vertical-align: middle;\n    }\n\n    .dataframe tbody tr th {\n        vertical-align: top;\n    }\n\n    .dataframe thead th {\n        text-align: right;\n    }\n</style>\n<table border=\"1\" class=\"dataframe\">\n  <thead>\n    <tr style=\"text-align: right;\">\n      <th></th>\n      <th>tBodyAcc-mean()-X</th>\n      <th>tBodyAcc-mean()-Y</th>\n      <th>tBodyAcc-mean()-Z</th>\n      <th>tBodyAcc-std()-X</th>\n      <th>tBodyAcc-std()-Y</th>\n      <th>tBodyAcc-std()-Z</th>\n      <th>tBodyAcc-mad()-X</th>\n      <th>tBodyAcc-mad()-Y</th>\n      <th>tBodyAcc-mad()-Z</th>\n      <th>tBodyAcc-max()-X</th>\n      <th>...</th>\n      <th>fBodyBodyGyroJerkMag-kurtosis()</th>\n      <th>angle(tBodyAccMean,gravity)</th>\n      <th>angle(tBodyAccJerkMean),gravityMean)</th>\n      <th>angle(tBodyGyroMean,gravityMean)</th>\n      <th>angle(tBodyGyroJerkMean,gravityMean)</th>\n      <th>angle(X,gravityMean)</th>\n      <th>angle(Y,gravityMean)</th>\n      <th>angle(Z,gravityMean)</th>\n      <th>subject</th>\n      <th>Activity</th>\n    </tr>\n  </thead>\n  <tbody>\n    <tr>\n      <th>0</th>\n      <td>0.257178</td>\n      <td>-0.023285</td>\n      <td>-0.014654</td>\n      <td>-0.938404</td>\n      <td>-0.920091</td>\n      <td>-0.667683</td>\n      <td>-0.952501</td>\n      <td>-0.925249</td>\n      <td>-0.674302</td>\n      <td>-0.894088</td>\n      <td>...</td>\n      <td>-0.705974</td>\n      <td>0.006462</td>\n      <td>0.162920</td>\n      <td>-0.825886</td>\n      <td>0.271151</td>\n      <td>-0.720009</td>\n      <td>0.276801</td>\n      <td>-0.057978</td>\n      <td>2</td>\n      <td>STANDING</td>\n    </tr>\n    <tr>\n      <th>1</th>\n      <td>0.286027</td>\n      <td>-0.013163</td>\n      <td>-0.119083</td>\n      <td>-0.975415</td>\n      <td>-0.967458</td>\n      <td>-0.944958</td>\n      <td>-0.986799</td>\n      <td>-0.968401</td>\n      <td>-0.945823</td>\n      <td>-0.894088</td>\n      <td>...</td>\n      <td>-0.594944</td>\n      <td>-0.083495</td>\n      <td>0.017500</td>\n      <td>-0.434375</td>\n      <td>0.920593</td>\n      <td>-0.698091</td>\n      <td>0.281343</td>\n      <td>-0.083898</td>\n      <td>2</td>\n      <td>STANDING</td>\n    </tr>\n    <tr>\n      <th>2</th>\n      <td>0.275485</td>\n      <td>-0.026050</td>\n      <td>-0.118152</td>\n      <td>-0.993819</td>\n      <td>-0.969926</td>\n      <td>-0.962748</td>\n      <td>-0.994403</td>\n      <td>-0.970735</td>\n      <td>-0.963483</td>\n      <td>-0.939260</td>\n      <td>...</td>\n      <td>-0.640736</td>\n      <td>-0.034956</td>\n      <td>0.202302</td>\n      <td>0.064103</td>\n      <td>0.145068</td>\n      <td>-0.702771</td>\n      <td>0.280083</td>\n      <td>-0.079346</td>\n      <td>2</td>\n      <td>STANDING</td>\n    </tr>\n    <tr>\n      <th>3</th>\n      <td>0.270298</td>\n      <td>-0.032614</td>\n      <td>-0.117520</td>\n      <td>-0.994743</td>\n      <td>-0.973268</td>\n      <td>-0.967091</td>\n      <td>-0.995274</td>\n      <td>-0.974471</td>\n      <td>-0.968897</td>\n      <td>-0.938610</td>\n      <td>...</td>\n      <td>-0.736124</td>\n      <td>-0.017067</td>\n      <td>0.154438</td>\n      <td>0.340134</td>\n      <td>0.296407</td>\n      <td>-0.698954</td>\n      <td>0.284114</td>\n      <td>-0.077108</td>\n      <td>2</td>\n      <td>STANDING</td>\n    </tr>\n    <tr>\n      <th>4</th>\n      <td>0.274833</td>\n      <td>-0.027848</td>\n      <td>-0.129527</td>\n      <td>-0.993852</td>\n      <td>-0.967445</td>\n      <td>-0.978295</td>\n      <td>-0.994111</td>\n      <td>-0.965953</td>\n      <td>-0.977346</td>\n      <td>-0.938610</td>\n      <td>...</td>\n      <td>-0.846595</td>\n      <td>-0.002223</td>\n      <td>-0.040046</td>\n      <td>0.736715</td>\n      <td>-0.118545</td>\n      <td>-0.692245</td>\n      <td>0.290722</td>\n      <td>-0.073857</td>\n      <td>2</td>\n      <td>STANDING</td>\n    </tr>\n  </tbody>\n</table>\n<p>5 rows × 563 columns</p>\n</div>"
     },
     "execution_count": 9,
     "metadata": {},
     "output_type": "execute_result"
    }
   ]
  },
  {
   "cell_type": "code",
   "execution_count": 10,
   "outputs": [],
   "source": [
    "# 결측치 확인\n",
    "train_df.isnull().sum()\n",
    "\n",
    "# 데이터 분할\n",
    "X_train = train_df.iloc[:, :-2].values\n",
    "y_train = train_df.iloc[:, -1].values\n",
    "X_test = test_df.iloc[:, :-2].values\n",
    "y_test = test_df.iloc[:, -1].values\n",
    "\n",
    "# 결측치 처리\n",
    "imputer = SimpleImputer(missing_values=np.nan, strategy='mean')\n",
    "imputer.fit(X_train)\n",
    "X_train = imputer.transform(X_train)\n",
    "X_test = imputer.transform(X_test)\n",
    "\n",
    "# 표준화\n",
    "scaler = StandardScaler()\n",
    "X_train = scaler.fit_transform(X_train)\n",
    "X_test = scaler.transform(X_test)\n",
    "\n",
    "# 클래스 인코딩\n",
    "label_encoder = LabelEncoder()\n",
    "y_train = label_encoder.fit_transform(y_train)\n",
    "y_test = label_encoder.transform(y_test)"
   ],
   "metadata": {
    "collapsed": false,
    "ExecuteTime": {
     "end_time": "2023-05-10T02:23:53.577018300Z",
     "start_time": "2023-05-10T02:23:53.390458700Z"
    }
   }
  },
  {
   "cell_type": "code",
   "execution_count": 11,
   "outputs": [
    {
     "name": "stdout",
     "output_type": "stream",
     "text": [
      "독립변수 X :  [[ 0.20064157 -0.0636826  -0.41962845 ... -0.68721921  0.40794614\n",
      "  -0.00756789]\n",
      " [ 0.05594788  0.03148567 -0.25390836 ... -0.694138    0.40911698\n",
      "   0.00787517]\n",
      " [ 0.07351535 -0.04341648 -0.07629468 ... -0.702239    0.4102883\n",
      "   0.02650234]\n",
      " ...\n",
      " [-0.01566765  0.0167814   1.13222107 ... -0.56584847  0.64059683\n",
      "   0.34870928]\n",
      " [ 0.21586648 -0.02812252 -0.86770988 ... -0.57766781  0.63147758\n",
      "   0.29327564]\n",
      " [ 1.09620157  0.12919873 -1.67268082 ... -0.57392691  0.63274259\n",
      "   0.33396081]]\n",
      "종속변수 y :  [2 2 2 ... 5 5 5]\n"
     ]
    }
   ],
   "source": [
    "# 독립변수, 종속변수 설정\n",
    "X = X_train\n",
    "y = y_train\n",
    "print(\"독립변수 X : \", X)\n",
    "print(\"종속변수 y : \", y)"
   ],
   "metadata": {
    "collapsed": false,
    "ExecuteTime": {
     "end_time": "2023-05-10T02:23:55.643307500Z",
     "start_time": "2023-05-10T02:23:55.628312800Z"
    }
   }
  },
  {
   "cell_type": "code",
   "source": [
    "# XGBoost 모델 생성\n",
    "model = xgb.XGBClassifier()\n",
    "\n",
    "# 모델 학습\n",
    "model.fit(X, y)"
   ],
   "metadata": {
    "id": "a0FeWEVPFUx_",
    "ExecuteTime": {
     "end_time": "2023-05-10T02:24:19.512393400Z",
     "start_time": "2023-05-10T02:24:00.575306900Z"
    }
   },
   "execution_count": 12,
   "outputs": [
    {
     "data": {
      "text/plain": "XGBClassifier(base_score=None, booster=None, callbacks=None,\n              colsample_bylevel=None, colsample_bynode=None,\n              colsample_bytree=None, early_stopping_rounds=None,\n              enable_categorical=False, eval_metric=None, feature_types=None,\n              gamma=None, gpu_id=None, grow_policy=None, importance_type=None,\n              interaction_constraints=None, learning_rate=None, max_bin=None,\n              max_cat_threshold=None, max_cat_to_onehot=None,\n              max_delta_step=None, max_depth=None, max_leaves=None,\n              min_child_weight=None, missing=nan, monotone_constraints=None,\n              n_estimators=100, n_jobs=None, num_parallel_tree=None,\n              objective='multi:softprob', predictor=None, ...)",
      "text/html": "<style>#sk-container-id-2 {color: black;background-color: white;}#sk-container-id-2 pre{padding: 0;}#sk-container-id-2 div.sk-toggleable {background-color: white;}#sk-container-id-2 label.sk-toggleable__label {cursor: pointer;display: block;width: 100%;margin-bottom: 0;padding: 0.3em;box-sizing: border-box;text-align: center;}#sk-container-id-2 label.sk-toggleable__label-arrow:before {content: \"▸\";float: left;margin-right: 0.25em;color: #696969;}#sk-container-id-2 label.sk-toggleable__label-arrow:hover:before {color: black;}#sk-container-id-2 div.sk-estimator:hover label.sk-toggleable__label-arrow:before {color: black;}#sk-container-id-2 div.sk-toggleable__content {max-height: 0;max-width: 0;overflow: hidden;text-align: left;background-color: #f0f8ff;}#sk-container-id-2 div.sk-toggleable__content pre {margin: 0.2em;color: black;border-radius: 0.25em;background-color: #f0f8ff;}#sk-container-id-2 input.sk-toggleable__control:checked~div.sk-toggleable__content {max-height: 200px;max-width: 100%;overflow: auto;}#sk-container-id-2 input.sk-toggleable__control:checked~label.sk-toggleable__label-arrow:before {content: \"▾\";}#sk-container-id-2 div.sk-estimator input.sk-toggleable__control:checked~label.sk-toggleable__label {background-color: #d4ebff;}#sk-container-id-2 div.sk-label input.sk-toggleable__control:checked~label.sk-toggleable__label {background-color: #d4ebff;}#sk-container-id-2 input.sk-hidden--visually {border: 0;clip: rect(1px 1px 1px 1px);clip: rect(1px, 1px, 1px, 1px);height: 1px;margin: -1px;overflow: hidden;padding: 0;position: absolute;width: 1px;}#sk-container-id-2 div.sk-estimator {font-family: monospace;background-color: #f0f8ff;border: 1px dotted black;border-radius: 0.25em;box-sizing: border-box;margin-bottom: 0.5em;}#sk-container-id-2 div.sk-estimator:hover {background-color: #d4ebff;}#sk-container-id-2 div.sk-parallel-item::after {content: \"\";width: 100%;border-bottom: 1px solid gray;flex-grow: 1;}#sk-container-id-2 div.sk-label:hover label.sk-toggleable__label {background-color: #d4ebff;}#sk-container-id-2 div.sk-serial::before {content: \"\";position: absolute;border-left: 1px solid gray;box-sizing: border-box;top: 0;bottom: 0;left: 50%;z-index: 0;}#sk-container-id-2 div.sk-serial {display: flex;flex-direction: column;align-items: center;background-color: white;padding-right: 0.2em;padding-left: 0.2em;position: relative;}#sk-container-id-2 div.sk-item {position: relative;z-index: 1;}#sk-container-id-2 div.sk-parallel {display: flex;align-items: stretch;justify-content: center;background-color: white;position: relative;}#sk-container-id-2 div.sk-item::before, #sk-container-id-2 div.sk-parallel-item::before {content: \"\";position: absolute;border-left: 1px solid gray;box-sizing: border-box;top: 0;bottom: 0;left: 50%;z-index: -1;}#sk-container-id-2 div.sk-parallel-item {display: flex;flex-direction: column;z-index: 1;position: relative;background-color: white;}#sk-container-id-2 div.sk-parallel-item:first-child::after {align-self: flex-end;width: 50%;}#sk-container-id-2 div.sk-parallel-item:last-child::after {align-self: flex-start;width: 50%;}#sk-container-id-2 div.sk-parallel-item:only-child::after {width: 0;}#sk-container-id-2 div.sk-dashed-wrapped {border: 1px dashed gray;margin: 0 0.4em 0.5em 0.4em;box-sizing: border-box;padding-bottom: 0.4em;background-color: white;}#sk-container-id-2 div.sk-label label {font-family: monospace;font-weight: bold;display: inline-block;line-height: 1.2em;}#sk-container-id-2 div.sk-label-container {text-align: center;}#sk-container-id-2 div.sk-container {/* jupyter's `normalize.less` sets `[hidden] { display: none; }` but bootstrap.min.css set `[hidden] { display: none !important; }` so we also need the `!important` here to be able to override the default hidden behavior on the sphinx rendered scikit-learn.org. See: https://github.com/scikit-learn/scikit-learn/issues/21755 */display: inline-block !important;position: relative;}#sk-container-id-2 div.sk-text-repr-fallback {display: none;}</style><div id=\"sk-container-id-2\" class=\"sk-top-container\"><div class=\"sk-text-repr-fallback\"><pre>XGBClassifier(base_score=None, booster=None, callbacks=None,\n              colsample_bylevel=None, colsample_bynode=None,\n              colsample_bytree=None, early_stopping_rounds=None,\n              enable_categorical=False, eval_metric=None, feature_types=None,\n              gamma=None, gpu_id=None, grow_policy=None, importance_type=None,\n              interaction_constraints=None, learning_rate=None, max_bin=None,\n              max_cat_threshold=None, max_cat_to_onehot=None,\n              max_delta_step=None, max_depth=None, max_leaves=None,\n              min_child_weight=None, missing=nan, monotone_constraints=None,\n              n_estimators=100, n_jobs=None, num_parallel_tree=None,\n              objective=&#x27;multi:softprob&#x27;, predictor=None, ...)</pre><b>In a Jupyter environment, please rerun this cell to show the HTML representation or trust the notebook. <br />On GitHub, the HTML representation is unable to render, please try loading this page with nbviewer.org.</b></div><div class=\"sk-container\" hidden><div class=\"sk-item\"><div class=\"sk-estimator sk-toggleable\"><input class=\"sk-toggleable__control sk-hidden--visually\" id=\"sk-estimator-id-2\" type=\"checkbox\" checked><label for=\"sk-estimator-id-2\" class=\"sk-toggleable__label sk-toggleable__label-arrow\">XGBClassifier</label><div class=\"sk-toggleable__content\"><pre>XGBClassifier(base_score=None, booster=None, callbacks=None,\n              colsample_bylevel=None, colsample_bynode=None,\n              colsample_bytree=None, early_stopping_rounds=None,\n              enable_categorical=False, eval_metric=None, feature_types=None,\n              gamma=None, gpu_id=None, grow_policy=None, importance_type=None,\n              interaction_constraints=None, learning_rate=None, max_bin=None,\n              max_cat_threshold=None, max_cat_to_onehot=None,\n              max_delta_step=None, max_depth=None, max_leaves=None,\n              min_child_weight=None, missing=nan, monotone_constraints=None,\n              n_estimators=100, n_jobs=None, num_parallel_tree=None,\n              objective=&#x27;multi:softprob&#x27;, predictor=None, ...)</pre></div></div></div></div></div>"
     },
     "execution_count": 12,
     "metadata": {},
     "output_type": "execute_result"
    }
   ]
  },
  {
   "cell_type": "code",
   "execution_count": 13,
   "outputs": [
    {
     "name": "stdout",
     "output_type": "stream",
     "text": [
      "오차 행렬\n",
      "[[537   0   0   0   0   0]\n",
      " [  0 420  68   0   0   3]\n",
      " [  0  28 504   0   0   0]\n",
      " [  0   0   0 487   5   4]\n",
      " [  0   0   0   9 384  27]\n",
      " [  0   0   0  31   5 435]]\n",
      "Accuracy: 0.9389209365456397 precision: 0.9401478785597349 recall: 0.9389209365456397 f1: 0.9387192635542985\n",
      "              precision    recall  f1-score   support\n",
      "\n",
      "           0       1.00      1.00      1.00       537\n",
      "           1       0.94      0.86      0.89       491\n",
      "           2       0.88      0.95      0.91       532\n",
      "           3       0.92      0.98      0.95       496\n",
      "           4       0.97      0.91      0.94       420\n",
      "           5       0.93      0.92      0.93       471\n",
      "\n",
      "    accuracy                           0.94      2947\n",
      "   macro avg       0.94      0.94      0.94      2947\n",
      "weighted avg       0.94      0.94      0.94      2947\n",
      "\n"
     ]
    }
   ],
   "source": [
    "# 모델 평가\n",
    "y_pred = model.predict(X_test)\n",
    "\n",
    "def get_clf_eval(test, pred):\n",
    "    confusion = confusion_matrix(test, pred)\n",
    "    accuracy = accuracy_score(test, pred)\n",
    "    precision = precision_score(test, pred, average='weighted')\n",
    "    recall = recall_score(test, pred, average='weighted')\n",
    "    f1 = f1_score(test, pred, average='weighted')\n",
    "    print('오차 행렬')\n",
    "    print(confusion)\n",
    "    print('Accuracy:', accuracy, 'precision:', precision, 'recall:', recall, 'f1:', f1)\n",
    "\n",
    "get_clf_eval(y_test, y_pred)\n",
    "\n",
    "# classification report\n",
    "class_report = classification_report(y_test, y_pred)\n",
    "print(class_report)"
   ],
   "metadata": {
    "collapsed": false,
    "ExecuteTime": {
     "end_time": "2023-05-10T02:24:22.657161400Z",
     "start_time": "2023-05-10T02:24:22.617292400Z"
    }
   }
  },
  {
   "cell_type": "code",
   "execution_count": null,
   "outputs": [],
   "source": [],
   "metadata": {
    "collapsed": false
   }
  }
 ]
}
