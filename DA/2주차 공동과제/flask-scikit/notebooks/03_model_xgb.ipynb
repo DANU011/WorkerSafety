{
 "nbformat": 4,
 "nbformat_minor": 0,
 "metadata": {
  "colab": {
   "provenance": []
  },
  "kernelspec": {
   "name": "python3",
   "language": "python",
   "display_name": "Python 3 (ipykernel)"
  },
  "language_info": {
   "name": "python"
  }
 },
 "cells": [
  {
   "cell_type": "code",
   "execution_count": 1,
   "metadata": {
    "id": "CskLHP3wFRCk",
    "ExecuteTime": {
     "end_time": "2023-05-10T00:01:16.869377500Z",
     "start_time": "2023-05-10T00:01:16.025797800Z"
    }
   },
   "outputs": [],
   "source": [
    "import numpy as np\n",
    "import pandas as pd\n",
    "import xgboost as xgb\n",
    "from sklearn.preprocessing import OneHotEncoder\n",
    "from sklearn.preprocessing import StandardScaler\n",
    "from sklearn.model_selection import train_test_split\n",
    "from sklearn.metrics import accuracy_score\n",
    "from sklearn.impute import SimpleImputer"
   ]
  },
  {
   "cell_type": "code",
   "source": [
    "# 데이터 불러오기\n",
    "train_df = pd.read_csv('../data/train.csv')\n",
    "test_df = pd.read_csv('../data/test.csv')\n",
    "\n",
    "# 데이터 확인\n",
    "train_df.head()\n",
    "test_df.head()"
   ],
   "metadata": {
    "colab": {
     "base_uri": "https://localhost:8080/",
     "height": 400
    },
    "id": "rW2eZDsVFUpQ",
    "outputId": "c3317ad1-3498-405b-d848-22ccaffa32fd",
    "ExecuteTime": {
     "end_time": "2023-05-10T00:01:26.850982Z",
     "start_time": "2023-05-10T00:01:25.944890600Z"
    }
   },
   "execution_count": 2,
   "outputs": [
    {
     "data": {
      "text/plain": "   tBodyAcc-mean()-X  tBodyAcc-mean()-Y  tBodyAcc-mean()-Z  tBodyAcc-std()-X   \n0           0.257178          -0.023285          -0.014654         -0.938404  \\\n1           0.286027          -0.013163          -0.119083         -0.975415   \n2           0.275485          -0.026050          -0.118152         -0.993819   \n3           0.270298          -0.032614          -0.117520         -0.994743   \n4           0.274833          -0.027848          -0.129527         -0.993852   \n\n   tBodyAcc-std()-Y  tBodyAcc-std()-Z  tBodyAcc-mad()-X  tBodyAcc-mad()-Y   \n0         -0.920091         -0.667683         -0.952501         -0.925249  \\\n1         -0.967458         -0.944958         -0.986799         -0.968401   \n2         -0.969926         -0.962748         -0.994403         -0.970735   \n3         -0.973268         -0.967091         -0.995274         -0.974471   \n4         -0.967445         -0.978295         -0.994111         -0.965953   \n\n   tBodyAcc-mad()-Z  tBodyAcc-max()-X  ...  fBodyBodyGyroJerkMag-kurtosis()   \n0         -0.674302         -0.894088  ...                        -0.705974  \\\n1         -0.945823         -0.894088  ...                        -0.594944   \n2         -0.963483         -0.939260  ...                        -0.640736   \n3         -0.968897         -0.938610  ...                        -0.736124   \n4         -0.977346         -0.938610  ...                        -0.846595   \n\n   angle(tBodyAccMean,gravity)  angle(tBodyAccJerkMean),gravityMean)   \n0                     0.006462                              0.162920  \\\n1                    -0.083495                              0.017500   \n2                    -0.034956                              0.202302   \n3                    -0.017067                              0.154438   \n4                    -0.002223                             -0.040046   \n\n   angle(tBodyGyroMean,gravityMean)  angle(tBodyGyroJerkMean,gravityMean)   \n0                         -0.825886                              0.271151  \\\n1                         -0.434375                              0.920593   \n2                          0.064103                              0.145068   \n3                          0.340134                              0.296407   \n4                          0.736715                             -0.118545   \n\n   angle(X,gravityMean)  angle(Y,gravityMean)  angle(Z,gravityMean)  subject   \n0             -0.720009              0.276801             -0.057978        2  \\\n1             -0.698091              0.281343             -0.083898        2   \n2             -0.702771              0.280083             -0.079346        2   \n3             -0.698954              0.284114             -0.077108        2   \n4             -0.692245              0.290722             -0.073857        2   \n\n   Activity  \n0  STANDING  \n1  STANDING  \n2  STANDING  \n3  STANDING  \n4  STANDING  \n\n[5 rows x 563 columns]",
      "text/html": "<div>\n<style scoped>\n    .dataframe tbody tr th:only-of-type {\n        vertical-align: middle;\n    }\n\n    .dataframe tbody tr th {\n        vertical-align: top;\n    }\n\n    .dataframe thead th {\n        text-align: right;\n    }\n</style>\n<table border=\"1\" class=\"dataframe\">\n  <thead>\n    <tr style=\"text-align: right;\">\n      <th></th>\n      <th>tBodyAcc-mean()-X</th>\n      <th>tBodyAcc-mean()-Y</th>\n      <th>tBodyAcc-mean()-Z</th>\n      <th>tBodyAcc-std()-X</th>\n      <th>tBodyAcc-std()-Y</th>\n      <th>tBodyAcc-std()-Z</th>\n      <th>tBodyAcc-mad()-X</th>\n      <th>tBodyAcc-mad()-Y</th>\n      <th>tBodyAcc-mad()-Z</th>\n      <th>tBodyAcc-max()-X</th>\n      <th>...</th>\n      <th>fBodyBodyGyroJerkMag-kurtosis()</th>\n      <th>angle(tBodyAccMean,gravity)</th>\n      <th>angle(tBodyAccJerkMean),gravityMean)</th>\n      <th>angle(tBodyGyroMean,gravityMean)</th>\n      <th>angle(tBodyGyroJerkMean,gravityMean)</th>\n      <th>angle(X,gravityMean)</th>\n      <th>angle(Y,gravityMean)</th>\n      <th>angle(Z,gravityMean)</th>\n      <th>subject</th>\n      <th>Activity</th>\n    </tr>\n  </thead>\n  <tbody>\n    <tr>\n      <th>0</th>\n      <td>0.257178</td>\n      <td>-0.023285</td>\n      <td>-0.014654</td>\n      <td>-0.938404</td>\n      <td>-0.920091</td>\n      <td>-0.667683</td>\n      <td>-0.952501</td>\n      <td>-0.925249</td>\n      <td>-0.674302</td>\n      <td>-0.894088</td>\n      <td>...</td>\n      <td>-0.705974</td>\n      <td>0.006462</td>\n      <td>0.162920</td>\n      <td>-0.825886</td>\n      <td>0.271151</td>\n      <td>-0.720009</td>\n      <td>0.276801</td>\n      <td>-0.057978</td>\n      <td>2</td>\n      <td>STANDING</td>\n    </tr>\n    <tr>\n      <th>1</th>\n      <td>0.286027</td>\n      <td>-0.013163</td>\n      <td>-0.119083</td>\n      <td>-0.975415</td>\n      <td>-0.967458</td>\n      <td>-0.944958</td>\n      <td>-0.986799</td>\n      <td>-0.968401</td>\n      <td>-0.945823</td>\n      <td>-0.894088</td>\n      <td>...</td>\n      <td>-0.594944</td>\n      <td>-0.083495</td>\n      <td>0.017500</td>\n      <td>-0.434375</td>\n      <td>0.920593</td>\n      <td>-0.698091</td>\n      <td>0.281343</td>\n      <td>-0.083898</td>\n      <td>2</td>\n      <td>STANDING</td>\n    </tr>\n    <tr>\n      <th>2</th>\n      <td>0.275485</td>\n      <td>-0.026050</td>\n      <td>-0.118152</td>\n      <td>-0.993819</td>\n      <td>-0.969926</td>\n      <td>-0.962748</td>\n      <td>-0.994403</td>\n      <td>-0.970735</td>\n      <td>-0.963483</td>\n      <td>-0.939260</td>\n      <td>...</td>\n      <td>-0.640736</td>\n      <td>-0.034956</td>\n      <td>0.202302</td>\n      <td>0.064103</td>\n      <td>0.145068</td>\n      <td>-0.702771</td>\n      <td>0.280083</td>\n      <td>-0.079346</td>\n      <td>2</td>\n      <td>STANDING</td>\n    </tr>\n    <tr>\n      <th>3</th>\n      <td>0.270298</td>\n      <td>-0.032614</td>\n      <td>-0.117520</td>\n      <td>-0.994743</td>\n      <td>-0.973268</td>\n      <td>-0.967091</td>\n      <td>-0.995274</td>\n      <td>-0.974471</td>\n      <td>-0.968897</td>\n      <td>-0.938610</td>\n      <td>...</td>\n      <td>-0.736124</td>\n      <td>-0.017067</td>\n      <td>0.154438</td>\n      <td>0.340134</td>\n      <td>0.296407</td>\n      <td>-0.698954</td>\n      <td>0.284114</td>\n      <td>-0.077108</td>\n      <td>2</td>\n      <td>STANDING</td>\n    </tr>\n    <tr>\n      <th>4</th>\n      <td>0.274833</td>\n      <td>-0.027848</td>\n      <td>-0.129527</td>\n      <td>-0.993852</td>\n      <td>-0.967445</td>\n      <td>-0.978295</td>\n      <td>-0.994111</td>\n      <td>-0.965953</td>\n      <td>-0.977346</td>\n      <td>-0.938610</td>\n      <td>...</td>\n      <td>-0.846595</td>\n      <td>-0.002223</td>\n      <td>-0.040046</td>\n      <td>0.736715</td>\n      <td>-0.118545</td>\n      <td>-0.692245</td>\n      <td>0.290722</td>\n      <td>-0.073857</td>\n      <td>2</td>\n      <td>STANDING</td>\n    </tr>\n  </tbody>\n</table>\n<p>5 rows × 563 columns</p>\n</div>"
     },
     "execution_count": 2,
     "metadata": {},
     "output_type": "execute_result"
    }
   ]
  },
  {
   "cell_type": "code",
   "execution_count": 10,
   "outputs": [],
   "source": [
    "# 결측치 확인\n",
    "train_df.isnull().sum()\n",
    "\n",
    "# 데이터 분할\n",
    "X_train = train_df.iloc[:, :-2].values\n",
    "y_train = train_df.iloc[:, -1].values\n",
    "X_test = test_df.iloc[:, :-2].values\n",
    "y_test = test_df.iloc[:, -1].values\n",
    "\n",
    "# 결측치 처리\n",
    "imputer = SimpleImputer(missing_values=np.nan, strategy='mean')\n",
    "imputer.fit(X_train)\n",
    "X_train = imputer.transform(X_train)\n",
    "X_test = imputer.transform(X_test)\n",
    "\n",
    "# 표준화\n",
    "scaler = StandardScaler()\n",
    "X_train = scaler.fit_transform(X_train)\n",
    "X_test = scaler.transform(X_test)"
   ],
   "metadata": {
    "collapsed": false,
    "ExecuteTime": {
     "end_time": "2023-05-10T00:06:38.585352200Z",
     "start_time": "2023-05-10T00:06:38.412686Z"
    }
   }
  },
  {
   "cell_type": "code",
   "execution_count": 11,
   "outputs": [
    {
     "name": "stdout",
     "output_type": "stream",
     "text": [
      "독립변수 X :  [[ 0.20064157 -0.0636826  -0.41962845 ... -0.68721921  0.40794614\n",
      "  -0.00756789]\n",
      " [ 0.05594788  0.03148567 -0.25390836 ... -0.694138    0.40911698\n",
      "   0.00787517]\n",
      " [ 0.07351535 -0.04341648 -0.07629468 ... -0.702239    0.4102883\n",
      "   0.02650234]\n",
      " ...\n",
      " [-0.01566765  0.0167814   1.13222107 ... -0.56584847  0.64059683\n",
      "   0.34870928]\n",
      " [ 0.21586648 -0.02812252 -0.86770988 ... -0.57766781  0.63147758\n",
      "   0.29327564]\n",
      " [ 1.09620157  0.12919873 -1.67268082 ... -0.57392691  0.63274259\n",
      "   0.33396081]]\n",
      "종속변수 Y :  [ 1  1  1 ... 30 30 30]\n"
     ]
    }
   ],
   "source": [
    "# 독립변수, 종속변수 설정\n",
    "X = X_train\n",
    "y = y_train\n",
    "print(\"독립변수 X : \", X)\n",
    "print(\"종속변수 Y : \", y)"
   ],
   "metadata": {
    "collapsed": false,
    "ExecuteTime": {
     "end_time": "2023-05-10T00:06:40.634959Z",
     "start_time": "2023-05-10T00:06:40.619361500Z"
    }
   }
  },
  {
   "cell_type": "code",
   "source": [
    "# XGBoost 모델 생성\n",
    "model = xgb.XGBClassifier()\n",
    "\n",
    "# 모델 학습\n",
    "model.fit(X, y)"
   ],
   "metadata": {
    "id": "a0FeWEVPFUx_",
    "ExecuteTime": {
     "end_time": "2023-05-10T00:06:43.808018500Z",
     "start_time": "2023-05-10T00:06:43.701929100Z"
    }
   },
   "execution_count": 12,
   "outputs": [
    {
     "ename": "ValueError",
     "evalue": "Invalid classes inferred from unique values of `y`.  Expected: [ 0  1  2  3  4  5  6  7  8  9 10 11 12 13 14 15 16 17 18 19 20], got [ 1  3  5  6  7  8 11 14 15 16 17 19 21 22 23 25 26 27 28 29 30]",
     "output_type": "error",
     "traceback": [
      "\u001B[1;31m---------------------------------------------------------------------------\u001B[0m",
      "\u001B[1;31mValueError\u001B[0m                                Traceback (most recent call last)",
      "Cell \u001B[1;32mIn[12], line 5\u001B[0m\n\u001B[0;32m      2\u001B[0m model \u001B[38;5;241m=\u001B[39m xgb\u001B[38;5;241m.\u001B[39mXGBClassifier()\n\u001B[0;32m      4\u001B[0m \u001B[38;5;66;03m# 모델 학습\u001B[39;00m\n\u001B[1;32m----> 5\u001B[0m \u001B[43mmodel\u001B[49m\u001B[38;5;241;43m.\u001B[39;49m\u001B[43mfit\u001B[49m\u001B[43m(\u001B[49m\u001B[43mX\u001B[49m\u001B[43m,\u001B[49m\u001B[43m \u001B[49m\u001B[43my\u001B[49m\u001B[43m)\u001B[49m\n",
      "File \u001B[1;32mD:\\Danu\\WorkerSafety\\DA\\venv\\lib\\site-packages\\xgboost\\core.py:620\u001B[0m, in \u001B[0;36mrequire_keyword_args.<locals>.throw_if.<locals>.inner_f\u001B[1;34m(*args, **kwargs)\u001B[0m\n\u001B[0;32m    618\u001B[0m \u001B[38;5;28;01mfor\u001B[39;00m k, arg \u001B[38;5;129;01min\u001B[39;00m \u001B[38;5;28mzip\u001B[39m(sig\u001B[38;5;241m.\u001B[39mparameters, args):\n\u001B[0;32m    619\u001B[0m     kwargs[k] \u001B[38;5;241m=\u001B[39m arg\n\u001B[1;32m--> 620\u001B[0m \u001B[38;5;28;01mreturn\u001B[39;00m func(\u001B[38;5;241m*\u001B[39m\u001B[38;5;241m*\u001B[39mkwargs)\n",
      "File \u001B[1;32mD:\\Danu\\WorkerSafety\\DA\\venv\\lib\\site-packages\\xgboost\\sklearn.py:1440\u001B[0m, in \u001B[0;36mXGBClassifier.fit\u001B[1;34m(self, X, y, sample_weight, base_margin, eval_set, eval_metric, early_stopping_rounds, verbose, xgb_model, sample_weight_eval_set, base_margin_eval_set, feature_weights, callbacks)\u001B[0m\n\u001B[0;32m   1435\u001B[0m     expected_classes \u001B[38;5;241m=\u001B[39m np\u001B[38;5;241m.\u001B[39marange(\u001B[38;5;28mself\u001B[39m\u001B[38;5;241m.\u001B[39mn_classes_)\n\u001B[0;32m   1436\u001B[0m \u001B[38;5;28;01mif\u001B[39;00m (\n\u001B[0;32m   1437\u001B[0m     \u001B[38;5;28mself\u001B[39m\u001B[38;5;241m.\u001B[39mclasses_\u001B[38;5;241m.\u001B[39mshape \u001B[38;5;241m!=\u001B[39m expected_classes\u001B[38;5;241m.\u001B[39mshape\n\u001B[0;32m   1438\u001B[0m     \u001B[38;5;129;01mor\u001B[39;00m \u001B[38;5;129;01mnot\u001B[39;00m (\u001B[38;5;28mself\u001B[39m\u001B[38;5;241m.\u001B[39mclasses_ \u001B[38;5;241m==\u001B[39m expected_classes)\u001B[38;5;241m.\u001B[39mall()\n\u001B[0;32m   1439\u001B[0m ):\n\u001B[1;32m-> 1440\u001B[0m     \u001B[38;5;28;01mraise\u001B[39;00m \u001B[38;5;167;01mValueError\u001B[39;00m(\n\u001B[0;32m   1441\u001B[0m         \u001B[38;5;124mf\u001B[39m\u001B[38;5;124m\"\u001B[39m\u001B[38;5;124mInvalid classes inferred from unique values of `y`.  \u001B[39m\u001B[38;5;124m\"\u001B[39m\n\u001B[0;32m   1442\u001B[0m         \u001B[38;5;124mf\u001B[39m\u001B[38;5;124m\"\u001B[39m\u001B[38;5;124mExpected: \u001B[39m\u001B[38;5;132;01m{\u001B[39;00mexpected_classes\u001B[38;5;132;01m}\u001B[39;00m\u001B[38;5;124m, got \u001B[39m\u001B[38;5;132;01m{\u001B[39;00m\u001B[38;5;28mself\u001B[39m\u001B[38;5;241m.\u001B[39mclasses_\u001B[38;5;132;01m}\u001B[39;00m\u001B[38;5;124m\"\u001B[39m\n\u001B[0;32m   1443\u001B[0m     )\n\u001B[0;32m   1445\u001B[0m params \u001B[38;5;241m=\u001B[39m \u001B[38;5;28mself\u001B[39m\u001B[38;5;241m.\u001B[39mget_xgb_params()\n\u001B[0;32m   1447\u001B[0m \u001B[38;5;28;01mif\u001B[39;00m \u001B[38;5;28mcallable\u001B[39m(\u001B[38;5;28mself\u001B[39m\u001B[38;5;241m.\u001B[39mobjective):\n",
      "\u001B[1;31mValueError\u001B[0m: Invalid classes inferred from unique values of `y`.  Expected: [ 0  1  2  3  4  5  6  7  8  9 10 11 12 13 14 15 16 17 18 19 20], got [ 1  3  5  6  7  8 11 14 15 16 17 19 21 22 23 25 26 27 28 29 30]"
     ]
    }
   ]
  },
  {
   "cell_type": "code",
   "execution_count": null,
   "outputs": [],
   "source": [
    "model.fit(X, y)\n",
    "y_pred = model.predict(X_test)\n",
    "print(\"Validation Accuracy:\", accuracy_score(X_test, y_pred))"
   ],
   "metadata": {
    "collapsed": false
   }
  },
  {
   "cell_type": "code",
   "source": [
    "# 3. 모델 평가 및 예측\n",
    "test_data = pd.read_csv('test.csv')\n",
    "X_test = test_data.drop(['Activity', 'subject'], axis=1)\n",
    "y_test = pd.get_dummies(test_data['Activity'])\n",
    "X_test = scaler.transform(X_test)\n",
    "y_pred = model.predict(X_test)\n",
    "print(\"Test Accuracy:\", accuracy_score(y_test, y_pred))"
   ],
   "metadata": {
    "id": "GXs3z7jRFU3n",
    "ExecuteTime": {
     "end_time": "2023-05-01T06:54:15.285719200Z",
     "start_time": "2023-05-01T06:54:15.020156600Z"
    }
   },
   "execution_count": 5,
   "outputs": [
    {
     "name": "stdout",
     "output_type": "stream",
     "text": [
      "Test Accuracy: 0.8934509670851714\n"
     ]
    }
   ]
  },
  {
   "cell_type": "markdown",
   "source": [
    "모델의 예측 결과인 y_pred를 기반으로 패턴 밖의 데이터가 들어왔을 때 알림\n",
    "\n",
    "새로운 데이터를 로드하고 전처리. 이전에 StandardScaler를 사용하여 데이터를 스케일링한 것과 같은 방법으로 스케일링을 해야함.\n",
    "\n",
    "model.predict() 함수를 사용하여 새로운 데이터의 예측값을 계산.\n",
    "\n",
    "예측값이 이전에 학습한 클래스 레이블 중 어느 하나와 다르다면, 패턴 밖의 데이터가 들어왔다는 것. 이때 알림을 보내도록 코드를 작성."
   ],
   "metadata": {
    "collapsed": false
   }
  },
  {
   "cell_type": "code",
   "execution_count": null,
   "outputs": [],
   "source": [
    "new_data = pd.read_csv('new_data.csv')  # 새로운 데이터를 로드합니다.\n",
    "new_data = scaler.transform(new_data.drop(['Activity', 'subject'], axis=1))  # 이전에 사용한 스케일러를 사용하여 데이터를 스케일링합니다.\n",
    "y_new_pred = model.predict(new_data)  # 새로운 데이터의 예측값을 계산합니다.\n",
    "\n",
    "if not any((y_new_pred == y_train).all(axis=1)):  # 예측값이 이전에 학습한 클래스 레이블 중 어느 하나와 다르다면\n",
    "    send_alert()  # 알림을 보냅니다.\n"
   ],
   "metadata": {
    "collapsed": false
   }
  },
  {
   "cell_type": "code",
   "execution_count": null,
   "outputs": [],
   "source": [
    "import pandas as pd\n",
    "import xgboost as xgb\n",
    "from sklearn.preprocessing import StandardScaler\n",
    "from sklearn.model_selection import train_test_split\n",
    "from sklearn.metrics import accuracy_score\n",
    "import numpy as np\n",
    "\n",
    "# 1. 데이터 로드 및 전처리\n",
    "data = pd.read_csv('train.csv')\n",
    "X = data.drop(['Activity', 'subject'], axis=1)\n",
    "y = pd.get_dummies(data['Activity'])\n",
    "X_train, X_val, y_train, y_val = train_test_split(X, y, test_size=0.3)\n",
    "scaler = StandardScaler()\n",
    "X_train = scaler.fit_transform(X_train)\n",
    "X_val = scaler.transform(X_val)\n",
    "\n",
    "# 2. XGBoost 모델 훈련\n",
    "model = xgb.XGBClassifier()\n",
    "model.fit(X_train, y_train)\n",
    "\n",
    "# 3. 모델 평가 및 예측\n",
    "test_data = pd.read_csv('test.csv')\n",
    "X_test = test_data.drop(['Activity', 'subject'], axis=1)\n",
    "y_test = pd.get_dummies(test_data['Activity'])\n",
    "X_test = scaler.transform(X_test)\n",
    "y_pred = model.predict(X_test)\n",
    "\n",
    "# 4. 모델 예측 결과 평가\n",
    "accuracy = accuracy_score(y_test, y_pred)\n",
    "print(\"Test Accuracy:\", accuracy)\n",
    "\n",
    "# 5. 패턴 밖의 데이터 예측\n",
    "new_data = pd.read_csv('new_data.csv')\n",
    "X_new = new_data.drop(['Activity', 'subject'], axis=1)\n",
    "y_new = pd.get_dummies(new_data['Activity'])\n",
    "X_new = scaler.transform(X_new)\n",
    "y_pred_new = model.predict(X_new)\n",
    "\n",
    "# 6. 패턴 밖의 데이터 예측 결과 평가 및 알림\n",
    "accuracy_new = accuracy_score(y_new, y_pred_new)\n",
    "print(\"New Data Accuracy:\", accuracy_new)\n",
    "\n",
    "threshold = 0.05  # 일정 오차 범위 설정\n",
    "diff = np.abs(y_new.values.argmax(axis=1) - y_pred_new.argmax(axis=1))\n",
    "if np.max(diff) <= threshold:\n",
    "    print(\"예측 결과가 정확합니다.\")\n",
    "else:\n",
    "    print(\"경고: 예측 결과가 오차 범위를 초과합니다!\")\n"
   ],
   "metadata": {
    "collapsed": false
   }
  }
 ]
}
