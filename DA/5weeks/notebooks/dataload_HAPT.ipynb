{
 "cells": [
  {
   "cell_type": "code",
   "execution_count": 1,
   "metadata": {
    "ExecuteTime": {
     "end_time": "2023-05-17T23:39:00.431919600Z",
     "start_time": "2023-05-17T23:38:59.614119900Z"
    }
   },
   "outputs": [],
   "source": [
    "import numpy as np\n",
    "import pandas as pd\n",
    "from sklearn.preprocessing import OneHotEncoder\n",
    "from sklearn.preprocessing import MinMaxScaler\n",
    "from sklearn.model_selection import train_test_split"
   ]
  },
  {
   "cell_type": "code",
   "execution_count": 2,
   "metadata": {
    "ExecuteTime": {
     "end_time": "2023-05-17T23:39:02.971521300Z",
     "start_time": "2023-05-17T23:39:02.955898200Z"
    }
   },
   "outputs": [],
   "source": [
    "\n",
    "label_to_class = {\n",
    "    1  : 'WALKING',          \n",
    "    2  : 'WALKING_UPSTAIRS', \n",
    "    3  : 'WALKING_DOWNSTAIRS',\n",
    "    4  : 'SITTING',      \n",
    "    5  : 'STANDING',       \n",
    "    6  : 'LAYING',         \n",
    "    7  : 'STAND_TO_SIT',      \n",
    "    8  : 'SIT_TO_STAND',     \n",
    "    9  : 'SIT_TO_LIE',     \n",
    "    10 : 'LIE_TO_SIT',      \n",
    "    11 : 'STAND_TO_LIE',      \n",
    "    12 : 'FALLING',   \n",
    "    np.nan : np.nan\n",
    "}\n",
    "class_to_label = {\n",
    "    'WALKING' : 1,\n",
    "    'WALKING_UPSTAIRS' : 2,\n",
    "    'WALKING_DOWNSTAIRS' : 3,\n",
    "    'SITTING' : 4,\n",
    "    'STANDING' : 5,         \n",
    "    'LAYING' : 6,      \n",
    "    'STAND_TO_SIT' : 7,     \n",
    "    'SIT_TO_STAND' : 8,     \n",
    "    'SIT_TO_LIE' : 9,     \n",
    "    'LIE_TO_SIT' : 10,        \n",
    "    'STAND_TO_LIE' : 11,     \n",
    "    'FALLING' : 12,\n",
    "    np.nan : np.nan\n",
    "}"
   ]
  },
  {
   "cell_type": "code",
   "execution_count": 3,
   "metadata": {
    "ExecuteTime": {
     "end_time": "2023-05-17T23:39:04.938732800Z",
     "start_time": "2023-05-17T23:39:04.924215100Z"
    }
   },
   "outputs": [],
   "source": [
    "activities = {\n",
    "    1  : 'WALKING',          \n",
    "    2  : 'WALKING_UPSTAIRS', \n",
    "    3  : 'WALKING_DOWNSTAIRS',\n",
    "    4  : 'SITTING',      \n",
    "    5  : 'STANDING',       \n",
    "    6  : 'LAYING',         \n",
    "    7  : 'STAND_TO_SIT',      \n",
    "    8  : 'SIT_TO_STAND',     \n",
    "    9  : 'SIT_TO_LIE',     \n",
    "    10 : 'LIE_TO_SIT',      \n",
    "    11 : 'STAND_TO_LIE',      \n",
    "    12 : 'FALLING', \n",
    " }"
   ]
  },
  {
   "cell_type": "code",
   "execution_count": 4,
   "metadata": {
    "ExecuteTime": {
     "end_time": "2023-05-17T23:39:12.777305500Z",
     "start_time": "2023-05-17T23:39:12.684914800Z"
    }
   },
   "outputs": [],
   "source": [
    "import matplotlib as plt\n",
    "\n",
    "def draw_bar(ydata):\n",
    "    print('Frequencies :- ',ydata.sum(axis = 0))\n",
    "    \n",
    "    x = np.arange(1,len(ydata[0])+1,1);\n",
    "    y = ydata.sum(axis = 0)\n",
    "    \n",
    "    plt.figure(figsize = (12.8,3))\n",
    "    plt.xlabel('Class Label',fontdict = {'size' : 15})\n",
    "    plt.ylabel('Frequency',fontdict = {'size' : 15})\n",
    "    bar = plt.bar(x,y)\n",
    "    \n",
    "    for idx,rect in enumerate(bar):\n",
    "        plt.text(\n",
    "            rect.get_x()+rect.get_width()/2.0,\n",
    "            rect.get_height(),int(y[idx]),\n",
    "            ha = 'center',\n",
    "            va = 'bottom'\n",
    "        )\n",
    "        \n",
    "    plt.show()"
   ]
  },
  {
   "cell_type": "code",
   "execution_count": 5,
   "metadata": {
    "ExecuteTime": {
     "end_time": "2023-05-17T23:39:17.794390500Z",
     "start_time": "2023-05-17T23:39:17.779134300Z"
    }
   },
   "outputs": [],
   "source": [
    "def draw_wave(xdata,ydata,activity_label):\n",
    "    \n",
    "    row = 0\n",
    "    while(ydata[row].argmax()+1 != activity_label) : row = row + 1;\n",
    "    \n",
    "    length   = xdata.shape[1]\n",
    "    sensor   = xdata.shape[2]\n",
    "    channel  = xdata.shape[3]\n",
    "    \n",
    "    x = np.linspace(0,(20)*(length-1)/1000,length)\n",
    "    \n",
    "    plt.figure(figsize = (12.8,2))\n",
    "    plt.plot(x,xdata[row,:,0,0])\n",
    "    plt.plot(x,xdata[row,:,0,1])\n",
    "    plt.plot(x,xdata[row,:,0,2])\n",
    "    plt.show()\n",
    "    \n",
    "    plt.figure(figsize = (12.8,2))\n",
    "    plt.plot(x,xdata[row,:,1,0])\n",
    "    plt.plot(x,xdata[row,:,1,1])\n",
    "    plt.plot(x,xdata[row,:,1,2])\n",
    "    plt.xlabel('Time in seconds :- ( Instance of ' + label_to_class[activity_label] + ' data )',fontdict = {'size' : 15})\n",
    "    plt.show()\n",
    "    "
   ]
  },
  {
   "cell_type": "code",
   "execution_count": 6,
   "metadata": {
    "ExecuteTime": {
     "end_time": "2023-05-17T23:39:25.827521900Z",
     "start_time": "2023-05-17T23:39:25.811875400Z"
    }
   },
   "outputs": [],
   "source": [
    "def remove_null(xdata,ydata):\n",
    "    xdata = xdata[np.where(np.isfinite(ydata))]\n",
    "    ydata = ydata[np.where(np.isfinite(ydata))]\n",
    "    ydata = ydata[np.where(np.isfinite(xdata).all(axis = 1).all(axis = 1).all(axis = 1))]\n",
    "    xdata = xdata[np.where(np.isfinite(xdata).all(axis = 1).all(axis = 1).all(axis = 1))]\n",
    " \n",
    "    return xdata,ydata"
   ]
  },
  {
   "cell_type": "code",
   "execution_count": 7,
   "metadata": {
    "ExecuteTime": {
     "end_time": "2023-05-17T23:39:28.441864Z",
     "start_time": "2023-05-17T23:39:28.426269300Z"
    }
   },
   "outputs": [],
   "source": [
    "def get_scaler(xdata):\n",
    "    \n",
    "    row = xdata.shape[0]\n",
    "    timestamp = xdata.shape[1]\n",
    "    sensor = xdata.shape[2]\n",
    "    axis = xdata.shape[3]\n",
    "    \n",
    "    scaler = MinMaxScaler(feature_range = (-1,1))\n",
    "    xdata = xdata.reshape(row,timestamp,sensor*axis)\n",
    "    xdata = np.swapaxes(xdata,0,2).reshape(sensor*axis,-1).T\n",
    "    scaler.fit(xdata)\n",
    "    return scaler\n",
    "\n",
    "def scale_data(xdata,scaler):\n",
    "    \n",
    "    row = xdata.shape[0]\n",
    "    timestamp = xdata.shape[1]\n",
    "    sensor = xdata.shape[2]\n",
    "    axis = xdata.shape[3]\n",
    "    \n",
    "    xdata = xdata.reshape(row,timestamp,sensor*axis)\n",
    "    xdata = np.swapaxes(xdata,0,2).reshape(sensor*axis,-1).T\n",
    "    xdata = scaler.transform(xdata)\n",
    "    xdata = xdata.T.reshape(sensor*axis,timestamp,row)\n",
    "    xdata = np.swapaxes(xdata,0,2).reshape(row,timestamp,sensor,axis)\n",
    "    \n",
    "    return xdata"
   ]
  },
  {
   "cell_type": "code",
   "execution_count": 8,
   "metadata": {
    "ExecuteTime": {
     "end_time": "2023-05-17T23:39:32.815041200Z",
     "start_time": "2023-05-17T23:39:32.783839600Z"
    }
   },
   "outputs": [],
   "source": [
    "def create_windows(location, exp, user, start, end, activity, length, overlap):\n",
    "    \n",
    "    acc_file  = location + '/acc_exp'+ str(exp).zfill(2) + '_user' + str(user).zfill(2) + '.txt'\n",
    "    gyro_file = location + '/gyro_exp'+ str(exp).zfill(2) + '_user' + str(user).zfill(2) + '.txt'\n",
    "\n",
    "    acc_data  = np.loadtxt(acc_file)\n",
    "    gyro_data = np.loadtxt(gyro_file)\n",
    "    \n",
    "    xtrain = []\n",
    "    ytrain = []\n",
    "    \n",
    "    while (start + length <= end) : \n",
    "          \n",
    "        stop = start + length\n",
    "        window = []\n",
    "        \n",
    "        while start != stop :\n",
    "            window.append( [acc_data[start] , gyro_data[start]] )\n",
    "            start += 1\n",
    "        \n",
    "        xtrain.append(window)\n",
    "        ytrain.append(activity)\n",
    "        \n",
    "        start = stop - overlap[activity-1]\n",
    "\n",
    "    return xtrain,ytrain"
   ]
  },
  {
   "cell_type": "code",
   "execution_count": 9,
   "metadata": {
    "ExecuteTime": {
     "end_time": "2023-05-17T23:39:36.514124800Z",
     "start_time": "2023-05-17T23:39:36.497283600Z"
    }
   },
   "outputs": [],
   "source": [
    "def prepare_data(location,length = 128,overlap = [64]*12):\n",
    "\n",
    "    xdata = []\n",
    "    ydata = []\n",
    "        \n",
    "    labels = np.loadtxt(location+'/labels.txt',dtype = 'uint32')\n",
    "    \n",
    "    for exp,user,activity,start,end in labels :\n",
    "\n",
    "        xtemp , ytemp = create_windows(location, exp, user, start, end+1, activity, length, overlap)\n",
    "        xdata.extend(xtemp)\n",
    "        ydata.extend(ytemp)\n",
    "        \n",
    "    return np.array(xdata),np.array(ydata)"
   ]
  },
  {
   "cell_type": "code",
   "execution_count": 10,
   "metadata": {
    "ExecuteTime": {
     "end_time": "2023-05-17T23:39:38.216611900Z",
     "start_time": "2023-05-17T23:39:38.200033100Z"
    }
   },
   "outputs": [],
   "source": [
    "def to_categorical(ydata):\n",
    "    \n",
    "    for i in range(len(ydata)):\n",
    "        j = ydata[i].argmax()\n",
    "        for k in range(len(ydata[i])):\n",
    "            ydata[i][k] = (k == j)\n",
    "    return ydata"
   ]
  },
  {
   "cell_type": "code",
   "execution_count": 11,
   "metadata": {
    "ExecuteTime": {
     "end_time": "2023-05-17T23:39:39.568429900Z",
     "start_time": "2023-05-17T23:39:39.552839700Z"
    }
   },
   "outputs": [],
   "source": [
    "def one_hot_encoded(ydata):\n",
    "    ydata = OneHotEncoder().fit_transform(ydata.reshape(len(ydata),1))\n",
    "    ydata = np.asarray(ydata.todense())\n",
    "    return ydata"
   ]
  },
  {
   "cell_type": "code",
   "execution_count": 12,
   "metadata": {
    "ExecuteTime": {
     "end_time": "2023-05-17T23:40:09.007334500Z",
     "start_time": "2023-05-17T23:40:08.456094500Z"
    }
   },
   "outputs": [
    {
     "ename": "FileNotFoundError",
     "evalue": "/home/falling/falling/data/data/labels.txt not found.",
     "output_type": "error",
     "traceback": [
      "\u001B[1;31m---------------------------------------------------------------------------\u001B[0m",
      "\u001B[1;31mFileNotFoundError\u001B[0m                         Traceback (most recent call last)",
      "Cell \u001B[1;32mIn[12], line 1\u001B[0m\n\u001B[1;32m----> 1\u001B[0m xtrain,ytrain \u001B[38;5;241m=\u001B[39m \u001B[43mprepare_data\u001B[49m\u001B[43m(\u001B[49m\u001B[38;5;124;43m'\u001B[39;49m\u001B[38;5;124;43m/home/falling/falling/data/data\u001B[39;49m\u001B[38;5;124;43m'\u001B[39;49m\u001B[43m,\u001B[49m\u001B[38;5;241;43m128\u001B[39;49m\u001B[43m,\u001B[49m\u001B[43m[\u001B[49m\u001B[38;5;241;43m64\u001B[39;49m\u001B[43m,\u001B[49m\u001B[38;5;241;43m64\u001B[39;49m\u001B[43m,\u001B[49m\u001B[38;5;241;43m64\u001B[39;49m\u001B[43m,\u001B[49m\u001B[38;5;241;43m64\u001B[39;49m\u001B[43m,\u001B[49m\u001B[38;5;241;43m64\u001B[39;49m\u001B[43m,\u001B[49m\u001B[38;5;241;43m64\u001B[39;49m\u001B[43m,\u001B[49m\u001B[38;5;241;43m120\u001B[39;49m\u001B[43m,\u001B[49m\u001B[38;5;241;43m120\u001B[39;49m\u001B[43m,\u001B[49m\u001B[38;5;241;43m120\u001B[39;49m\u001B[43m,\u001B[49m\u001B[38;5;241;43m120\u001B[39;49m\u001B[43m,\u001B[49m\u001B[38;5;241;43m120\u001B[39;49m\u001B[43m,\u001B[49m\u001B[38;5;241;43m120\u001B[39;49m\u001B[43m]\u001B[49m\u001B[43m)\u001B[49m\n",
      "Cell \u001B[1;32mIn[9], line 6\u001B[0m, in \u001B[0;36mprepare_data\u001B[1;34m(location, length, overlap)\u001B[0m\n\u001B[0;32m      3\u001B[0m xdata \u001B[38;5;241m=\u001B[39m []\n\u001B[0;32m      4\u001B[0m ydata \u001B[38;5;241m=\u001B[39m []\n\u001B[1;32m----> 6\u001B[0m labels \u001B[38;5;241m=\u001B[39m \u001B[43mnp\u001B[49m\u001B[38;5;241;43m.\u001B[39;49m\u001B[43mloadtxt\u001B[49m\u001B[43m(\u001B[49m\u001B[43mlocation\u001B[49m\u001B[38;5;241;43m+\u001B[39;49m\u001B[38;5;124;43m'\u001B[39;49m\u001B[38;5;124;43m/labels.txt\u001B[39;49m\u001B[38;5;124;43m'\u001B[39;49m\u001B[43m,\u001B[49m\u001B[43mdtype\u001B[49m\u001B[43m \u001B[49m\u001B[38;5;241;43m=\u001B[39;49m\u001B[43m \u001B[49m\u001B[38;5;124;43m'\u001B[39;49m\u001B[38;5;124;43muint32\u001B[39;49m\u001B[38;5;124;43m'\u001B[39;49m\u001B[43m)\u001B[49m\n\u001B[0;32m      8\u001B[0m \u001B[38;5;28;01mfor\u001B[39;00m exp,user,activity,start,end \u001B[38;5;129;01min\u001B[39;00m labels :\n\u001B[0;32m     10\u001B[0m     xtemp , ytemp \u001B[38;5;241m=\u001B[39m create_windows(location, exp, user, start, end\u001B[38;5;241m+\u001B[39m\u001B[38;5;241m1\u001B[39m, activity, length, overlap)\n",
      "File \u001B[1;32mD:\\Danu\\Project\\DA\\venv\\lib\\site-packages\\numpy\\lib\\npyio.py:1356\u001B[0m, in \u001B[0;36mloadtxt\u001B[1;34m(fname, dtype, comments, delimiter, converters, skiprows, usecols, unpack, ndmin, encoding, max_rows, quotechar, like)\u001B[0m\n\u001B[0;32m   1353\u001B[0m \u001B[38;5;28;01mif\u001B[39;00m \u001B[38;5;28misinstance\u001B[39m(delimiter, \u001B[38;5;28mbytes\u001B[39m):\n\u001B[0;32m   1354\u001B[0m     delimiter \u001B[38;5;241m=\u001B[39m delimiter\u001B[38;5;241m.\u001B[39mdecode(\u001B[38;5;124m'\u001B[39m\u001B[38;5;124mlatin1\u001B[39m\u001B[38;5;124m'\u001B[39m)\n\u001B[1;32m-> 1356\u001B[0m arr \u001B[38;5;241m=\u001B[39m \u001B[43m_read\u001B[49m\u001B[43m(\u001B[49m\u001B[43mfname\u001B[49m\u001B[43m,\u001B[49m\u001B[43m \u001B[49m\u001B[43mdtype\u001B[49m\u001B[38;5;241;43m=\u001B[39;49m\u001B[43mdtype\u001B[49m\u001B[43m,\u001B[49m\u001B[43m \u001B[49m\u001B[43mcomment\u001B[49m\u001B[38;5;241;43m=\u001B[39;49m\u001B[43mcomment\u001B[49m\u001B[43m,\u001B[49m\u001B[43m \u001B[49m\u001B[43mdelimiter\u001B[49m\u001B[38;5;241;43m=\u001B[39;49m\u001B[43mdelimiter\u001B[49m\u001B[43m,\u001B[49m\n\u001B[0;32m   1357\u001B[0m \u001B[43m            \u001B[49m\u001B[43mconverters\u001B[49m\u001B[38;5;241;43m=\u001B[39;49m\u001B[43mconverters\u001B[49m\u001B[43m,\u001B[49m\u001B[43m \u001B[49m\u001B[43mskiplines\u001B[49m\u001B[38;5;241;43m=\u001B[39;49m\u001B[43mskiprows\u001B[49m\u001B[43m,\u001B[49m\u001B[43m \u001B[49m\u001B[43musecols\u001B[49m\u001B[38;5;241;43m=\u001B[39;49m\u001B[43musecols\u001B[49m\u001B[43m,\u001B[49m\n\u001B[0;32m   1358\u001B[0m \u001B[43m            \u001B[49m\u001B[43munpack\u001B[49m\u001B[38;5;241;43m=\u001B[39;49m\u001B[43munpack\u001B[49m\u001B[43m,\u001B[49m\u001B[43m \u001B[49m\u001B[43mndmin\u001B[49m\u001B[38;5;241;43m=\u001B[39;49m\u001B[43mndmin\u001B[49m\u001B[43m,\u001B[49m\u001B[43m \u001B[49m\u001B[43mencoding\u001B[49m\u001B[38;5;241;43m=\u001B[39;49m\u001B[43mencoding\u001B[49m\u001B[43m,\u001B[49m\n\u001B[0;32m   1359\u001B[0m \u001B[43m            \u001B[49m\u001B[43mmax_rows\u001B[49m\u001B[38;5;241;43m=\u001B[39;49m\u001B[43mmax_rows\u001B[49m\u001B[43m,\u001B[49m\u001B[43m \u001B[49m\u001B[43mquote\u001B[49m\u001B[38;5;241;43m=\u001B[39;49m\u001B[43mquotechar\u001B[49m\u001B[43m)\u001B[49m\n\u001B[0;32m   1361\u001B[0m \u001B[38;5;28;01mreturn\u001B[39;00m arr\n",
      "File \u001B[1;32mD:\\Danu\\Project\\DA\\venv\\lib\\site-packages\\numpy\\lib\\npyio.py:975\u001B[0m, in \u001B[0;36m_read\u001B[1;34m(fname, delimiter, comment, quote, imaginary_unit, usecols, skiplines, max_rows, converters, ndmin, unpack, dtype, encoding)\u001B[0m\n\u001B[0;32m    973\u001B[0m     fname \u001B[38;5;241m=\u001B[39m os\u001B[38;5;241m.\u001B[39mfspath(fname)\n\u001B[0;32m    974\u001B[0m \u001B[38;5;28;01mif\u001B[39;00m \u001B[38;5;28misinstance\u001B[39m(fname, \u001B[38;5;28mstr\u001B[39m):\n\u001B[1;32m--> 975\u001B[0m     fh \u001B[38;5;241m=\u001B[39m \u001B[43mnp\u001B[49m\u001B[38;5;241;43m.\u001B[39;49m\u001B[43mlib\u001B[49m\u001B[38;5;241;43m.\u001B[39;49m\u001B[43m_datasource\u001B[49m\u001B[38;5;241;43m.\u001B[39;49m\u001B[43mopen\u001B[49m\u001B[43m(\u001B[49m\u001B[43mfname\u001B[49m\u001B[43m,\u001B[49m\u001B[43m \u001B[49m\u001B[38;5;124;43m'\u001B[39;49m\u001B[38;5;124;43mrt\u001B[39;49m\u001B[38;5;124;43m'\u001B[39;49m\u001B[43m,\u001B[49m\u001B[43m \u001B[49m\u001B[43mencoding\u001B[49m\u001B[38;5;241;43m=\u001B[39;49m\u001B[43mencoding\u001B[49m\u001B[43m)\u001B[49m\n\u001B[0;32m    976\u001B[0m     \u001B[38;5;28;01mif\u001B[39;00m encoding \u001B[38;5;129;01mis\u001B[39;00m \u001B[38;5;28;01mNone\u001B[39;00m:\n\u001B[0;32m    977\u001B[0m         encoding \u001B[38;5;241m=\u001B[39m \u001B[38;5;28mgetattr\u001B[39m(fh, \u001B[38;5;124m'\u001B[39m\u001B[38;5;124mencoding\u001B[39m\u001B[38;5;124m'\u001B[39m, \u001B[38;5;124m'\u001B[39m\u001B[38;5;124mlatin1\u001B[39m\u001B[38;5;124m'\u001B[39m)\n",
      "File \u001B[1;32mD:\\Danu\\Project\\DA\\venv\\lib\\site-packages\\numpy\\lib\\_datasource.py:193\u001B[0m, in \u001B[0;36mopen\u001B[1;34m(path, mode, destpath, encoding, newline)\u001B[0m\n\u001B[0;32m    156\u001B[0m \u001B[38;5;250m\u001B[39m\u001B[38;5;124;03m\"\"\"\u001B[39;00m\n\u001B[0;32m    157\u001B[0m \u001B[38;5;124;03mOpen `path` with `mode` and return the file object.\u001B[39;00m\n\u001B[0;32m    158\u001B[0m \n\u001B[1;32m   (...)\u001B[0m\n\u001B[0;32m    189\u001B[0m \n\u001B[0;32m    190\u001B[0m \u001B[38;5;124;03m\"\"\"\u001B[39;00m\n\u001B[0;32m    192\u001B[0m ds \u001B[38;5;241m=\u001B[39m DataSource(destpath)\n\u001B[1;32m--> 193\u001B[0m \u001B[38;5;28;01mreturn\u001B[39;00m \u001B[43mds\u001B[49m\u001B[38;5;241;43m.\u001B[39;49m\u001B[43mopen\u001B[49m\u001B[43m(\u001B[49m\u001B[43mpath\u001B[49m\u001B[43m,\u001B[49m\u001B[43m \u001B[49m\u001B[43mmode\u001B[49m\u001B[43m,\u001B[49m\u001B[43m \u001B[49m\u001B[43mencoding\u001B[49m\u001B[38;5;241;43m=\u001B[39;49m\u001B[43mencoding\u001B[49m\u001B[43m,\u001B[49m\u001B[43m \u001B[49m\u001B[43mnewline\u001B[49m\u001B[38;5;241;43m=\u001B[39;49m\u001B[43mnewline\u001B[49m\u001B[43m)\u001B[49m\n",
      "File \u001B[1;32mD:\\Danu\\Project\\DA\\venv\\lib\\site-packages\\numpy\\lib\\_datasource.py:533\u001B[0m, in \u001B[0;36mDataSource.open\u001B[1;34m(self, path, mode, encoding, newline)\u001B[0m\n\u001B[0;32m    530\u001B[0m     \u001B[38;5;28;01mreturn\u001B[39;00m _file_openers[ext](found, mode\u001B[38;5;241m=\u001B[39mmode,\n\u001B[0;32m    531\u001B[0m                               encoding\u001B[38;5;241m=\u001B[39mencoding, newline\u001B[38;5;241m=\u001B[39mnewline)\n\u001B[0;32m    532\u001B[0m \u001B[38;5;28;01melse\u001B[39;00m:\n\u001B[1;32m--> 533\u001B[0m     \u001B[38;5;28;01mraise\u001B[39;00m \u001B[38;5;167;01mFileNotFoundError\u001B[39;00m(\u001B[38;5;124mf\u001B[39m\u001B[38;5;124m\"\u001B[39m\u001B[38;5;132;01m{\u001B[39;00mpath\u001B[38;5;132;01m}\u001B[39;00m\u001B[38;5;124m not found.\u001B[39m\u001B[38;5;124m\"\u001B[39m)\n",
      "\u001B[1;31mFileNotFoundError\u001B[0m: /home/falling/falling/data/data/labels.txt not found."
     ]
    }
   ],
   "source": [
    "xtrain,ytrain = prepare_data('/home/falling/falling/data/data',128,[64,64,64,64,64,64,120,120,120,120,120,120])"
   ]
  },
  {
   "cell_type": "code",
   "execution_count": 13,
   "metadata": {
    "ExecuteTime": {
     "end_time": "2023-05-17T23:40:10.437572900Z",
     "start_time": "2023-05-17T23:40:10.412254700Z"
    }
   },
   "outputs": [
    {
     "ename": "NameError",
     "evalue": "name 'xtrain' is not defined",
     "output_type": "error",
     "traceback": [
      "\u001B[1;31m---------------------------------------------------------------------------\u001B[0m",
      "\u001B[1;31mNameError\u001B[0m                                 Traceback (most recent call last)",
      "Cell \u001B[1;32mIn[13], line 1\u001B[0m\n\u001B[1;32m----> 1\u001B[0m xtrain,ytrain \u001B[38;5;241m=\u001B[39m remove_null(\u001B[43mxtrain\u001B[49m,ytrain)\n",
      "\u001B[1;31mNameError\u001B[0m: name 'xtrain' is not defined"
     ]
    }
   ],
   "source": [
    "xtrain,ytrain = remove_null(xtrain,ytrain)"
   ]
  },
  {
   "cell_type": "code",
   "execution_count": 14,
   "metadata": {
    "ExecuteTime": {
     "end_time": "2023-05-17T23:40:11.815245300Z",
     "start_time": "2023-05-17T23:40:11.794865600Z"
    }
   },
   "outputs": [
    {
     "ename": "NameError",
     "evalue": "name 'xtrain' is not defined",
     "output_type": "error",
     "traceback": [
      "\u001B[1;31m---------------------------------------------------------------------------\u001B[0m",
      "\u001B[1;31mNameError\u001B[0m                                 Traceback (most recent call last)",
      "Cell \u001B[1;32mIn[14], line 1\u001B[0m\n\u001B[1;32m----> 1\u001B[0m xtrain,xtest,ytrain,ytest \u001B[38;5;241m=\u001B[39m train_test_split(\u001B[43mxtrain\u001B[49m,ytrain,test_size \u001B[38;5;241m=\u001B[39m \u001B[38;5;241m0.3\u001B[39m)\n\u001B[0;32m      2\u001B[0m xtest,xval,ytest,yval \u001B[38;5;241m=\u001B[39m train_test_split(xtest,ytest,test_size \u001B[38;5;241m=\u001B[39m \u001B[38;5;241m0.5\u001B[39m)\n",
      "\u001B[1;31mNameError\u001B[0m: name 'xtrain' is not defined"
     ]
    }
   ],
   "source": [
    "xtrain,xtest,ytrain,ytest = train_test_split(xtrain,ytrain,test_size = 0.3)\n",
    "xtest,xval,ytest,yval = train_test_split(xtest,ytest,test_size = 0.5)"
   ]
  },
  {
   "cell_type": "code",
   "execution_count": 15,
   "metadata": {
    "ExecuteTime": {
     "end_time": "2023-05-17T23:40:12.454539900Z",
     "start_time": "2023-05-17T23:40:12.393321800Z"
    }
   },
   "outputs": [
    {
     "ename": "NameError",
     "evalue": "name 'xtrain' is not defined",
     "output_type": "error",
     "traceback": [
      "\u001B[1;31m---------------------------------------------------------------------------\u001B[0m",
      "\u001B[1;31mNameError\u001B[0m                                 Traceback (most recent call last)",
      "Cell \u001B[1;32mIn[15], line 1\u001B[0m\n\u001B[1;32m----> 1\u001B[0m \u001B[43mxtrain\u001B[49m\u001B[38;5;241m.\u001B[39mshape,ytrain\u001B[38;5;241m.\u001B[39mshape,xtest\u001B[38;5;241m.\u001B[39mshape,ytest\u001B[38;5;241m.\u001B[39mshape,xval\u001B[38;5;241m.\u001B[39mshape,yval\u001B[38;5;241m.\u001B[39mshape\n",
      "\u001B[1;31mNameError\u001B[0m: name 'xtrain' is not defined"
     ]
    }
   ],
   "source": [
    "xtrain.shape,ytrain.shape,xtest.shape,ytest.shape,xval.shape,yval.shape"
   ]
  },
  {
   "cell_type": "code",
   "execution_count": 16,
   "metadata": {
    "ExecuteTime": {
     "end_time": "2023-05-17T23:40:13.286656Z",
     "start_time": "2023-05-17T23:40:13.230315700Z"
    }
   },
   "outputs": [
    {
     "ename": "NameError",
     "evalue": "name 'xtrain' is not defined",
     "output_type": "error",
     "traceback": [
      "\u001B[1;31m---------------------------------------------------------------------------\u001B[0m",
      "\u001B[1;31mNameError\u001B[0m                                 Traceback (most recent call last)",
      "Cell \u001B[1;32mIn[16], line 1\u001B[0m\n\u001B[1;32m----> 1\u001B[0m scaler \u001B[38;5;241m=\u001B[39m get_scaler(\u001B[43mxtrain\u001B[49m)\n\u001B[0;32m      2\u001B[0m xtrain \u001B[38;5;241m=\u001B[39m scale_data(xtrain,scaler)\n\u001B[0;32m      3\u001B[0m xtest  \u001B[38;5;241m=\u001B[39m scale_data(xtest,scaler)\n",
      "\u001B[1;31mNameError\u001B[0m: name 'xtrain' is not defined"
     ]
    }
   ],
   "source": [
    "scaler = get_scaler(xtrain)\n",
    "xtrain = scale_data(xtrain,scaler)\n",
    "xtest  = scale_data(xtest,scaler)\n",
    "xval   = scale_data(xval,scaler)"
   ]
  },
  {
   "cell_type": "code",
   "execution_count": 17,
   "metadata": {
    "ExecuteTime": {
     "end_time": "2023-05-17T23:40:13.697800Z",
     "start_time": "2023-05-17T23:40:13.635282800Z"
    }
   },
   "outputs": [
    {
     "ename": "NameError",
     "evalue": "name 'ytrain' is not defined",
     "output_type": "error",
     "traceback": [
      "\u001B[1;31m---------------------------------------------------------------------------\u001B[0m",
      "\u001B[1;31mNameError\u001B[0m                                 Traceback (most recent call last)",
      "Cell \u001B[1;32mIn[17], line 1\u001B[0m\n\u001B[1;32m----> 1\u001B[0m ytrain \u001B[38;5;241m=\u001B[39m one_hot_encoded(\u001B[43mytrain\u001B[49m)\n\u001B[0;32m      2\u001B[0m ytest \u001B[38;5;241m=\u001B[39m one_hot_encoded(ytest)\n\u001B[0;32m      3\u001B[0m yval \u001B[38;5;241m=\u001B[39m one_hot_encoded(yval)\n",
      "\u001B[1;31mNameError\u001B[0m: name 'ytrain' is not defined"
     ]
    }
   ],
   "source": [
    "ytrain = one_hot_encoded(ytrain)\n",
    "ytest = one_hot_encoded(ytest)\n",
    "yval = one_hot_encoded(yval)"
   ]
  },
  {
   "cell_type": "code",
   "execution_count": 18,
   "metadata": {
    "ExecuteTime": {
     "end_time": "2023-05-17T23:40:14.134292200Z",
     "start_time": "2023-05-17T23:40:14.118669900Z"
    }
   },
   "outputs": [
    {
     "ename": "NameError",
     "evalue": "name 'xtrain' is not defined",
     "output_type": "error",
     "traceback": [
      "\u001B[1;31m---------------------------------------------------------------------------\u001B[0m",
      "\u001B[1;31mNameError\u001B[0m                                 Traceback (most recent call last)",
      "Cell \u001B[1;32mIn[18], line 1\u001B[0m\n\u001B[1;32m----> 1\u001B[0m \u001B[43mxtrain\u001B[49m\u001B[38;5;241m.\u001B[39mshape,ytrain\u001B[38;5;241m.\u001B[39mshape,xtest\u001B[38;5;241m.\u001B[39mshape,ytest\u001B[38;5;241m.\u001B[39mshape,xval\u001B[38;5;241m.\u001B[39mshape,yval\u001B[38;5;241m.\u001B[39mshape\n",
      "\u001B[1;31mNameError\u001B[0m: name 'xtrain' is not defined"
     ]
    }
   ],
   "source": [
    "xtrain.shape,ytrain.shape,xtest.shape,ytest.shape,xval.shape,yval.shape"
   ]
  },
  {
   "cell_type": "code",
   "execution_count": null,
   "outputs": [],
   "source": [],
   "metadata": {
    "collapsed": false
   }
  }
 ],
 "metadata": {
  "kernelspec": {
   "display_name": "Python 3",
   "language": "python",
   "name": "python3"
  },
  "language_info": {
   "codemirror_mode": {
    "name": "ipython",
    "version": 3
   },
   "file_extension": ".py",
   "mimetype": "text/x-python",
   "name": "python",
   "nbconvert_exporter": "python",
   "pygments_lexer": "ipython3",
   "version": "3.6.9"
  }
 },
 "nbformat": 4,
 "nbformat_minor": 2
}
