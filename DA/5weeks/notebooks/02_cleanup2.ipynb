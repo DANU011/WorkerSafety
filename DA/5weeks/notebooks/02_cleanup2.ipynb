{
 "cells": [
  {
   "cell_type": "code",
   "execution_count": 51,
   "metadata": {
    "collapsed": true,
    "ExecuteTime": {
     "end_time": "2023-05-26T01:28:33.873697900Z",
     "start_time": "2023-05-26T01:28:33.858077Z"
    }
   },
   "outputs": [],
   "source": [
    "import pandas as pd"
   ]
  },
  {
   "cell_type": "code",
   "execution_count": 52,
   "outputs": [
    {
     "name": "stdout",
     "output_type": "stream",
     "text": [
      "   UserCode    Label  GyroX  GyroY     GyroZ  Temperature  Heartbeat   \n",
      "0         8  Walking   5.41  13.21 -4.630918         36.8         94  \\\n",
      "1         8  Walking   6.74   8.16  0.953424         36.9         93   \n",
      "2         8  Walking   5.33   5.37 -2.792171         36.9         91   \n",
      "3         8  Walking   3.38   8.54 -1.525479         36.8         93   \n",
      "4         8  Walking   1.73   9.11 -0.994285         36.7         93   \n",
      "\n",
      "         Lat         Lng  No     time  \n",
      "0  35.235809  129.077699   1  0:00:00  \n",
      "1  35.235969  129.077695   2  0:00:02  \n",
      "2  35.235999  129.077640   3  0:00:04  \n",
      "3  35.235998  129.077793   4  0:00:06  \n",
      "4  35.235855  129.077650   5  0:00:08  \n"
     ]
    }
   ],
   "source": [
    "# CSV 파일 경로\n",
    "csv_file = '../data/data_adl_fall_time2.csv'\n",
    "\n",
    "# CSV 파일을 DataFrame으로 읽어오기\n",
    "df = pd.read_csv(csv_file)\n",
    "\n",
    "# DataFrame 확인\n",
    "print(df.head())"
   ],
   "metadata": {
    "collapsed": false,
    "ExecuteTime": {
     "end_time": "2023-05-26T01:28:34.650015300Z",
     "start_time": "2023-05-26T01:28:34.368835300Z"
    }
   }
  },
  {
   "cell_type": "code",
   "execution_count": 53,
   "outputs": [
    {
     "data": {
      "text/plain": "UserCode       0\nLabel          0\nGyroX          0\nGyroY          0\nGyroZ          0\nTemperature    0\nHeartbeat      0\nLat            0\nLng            0\nNo             0\ntime           0\ndtype: int64"
     },
     "execution_count": 53,
     "metadata": {},
     "output_type": "execute_result"
    }
   ],
   "source": [
    "# 결측치 확인\n",
    "df.isnull().sum()"
   ],
   "metadata": {
    "collapsed": false,
    "ExecuteTime": {
     "end_time": "2023-05-26T01:28:35.453675900Z",
     "start_time": "2023-05-26T01:28:35.406728700Z"
    }
   }
  },
  {
   "cell_type": "code",
   "execution_count": 54,
   "outputs": [
    {
     "data": {
      "text/plain": "UserCode          0\nLabel             0\nGyroX          6601\nGyroY          5881\nGyroZ          6699\nTemperature       0\nHeartbeat         0\nLat               0\nLng               0\nNo                0\ntime              0\ndtype: int64"
     },
     "execution_count": 54,
     "metadata": {},
     "output_type": "execute_result"
    }
   ],
   "source": [
    "# 값이 0인 요소 찾기\n",
    "df.eq(0).sum()"
   ],
   "metadata": {
    "collapsed": false,
    "ExecuteTime": {
     "end_time": "2023-05-26T01:28:37.096233900Z",
     "start_time": "2023-05-26T01:28:37.049369900Z"
    }
   }
  },
  {
   "cell_type": "code",
   "execution_count": 55,
   "outputs": [
    {
     "name": "stdout",
     "output_type": "stream",
     "text": [
      "        UserCode       Label  GyroX  GyroY     GyroZ  Temperature  Heartbeat   \n",
      "0              8     Walking   5.41  13.21 -4.630918         36.8         94  \\\n",
      "1              8     Walking   6.74   8.16  0.953424         36.9         93   \n",
      "2              8     Walking   5.33   5.37 -2.792171         36.9         91   \n",
      "3              8     Walking   3.38   8.54 -1.525479         36.8         93   \n",
      "4              8     Walking   1.73   9.11 -0.994285         36.7         93   \n",
      "...          ...         ...    ...    ...       ...          ...        ...   \n",
      "293734         1  Downstairs  -3.87   7.55  3.300000         36.2         95   \n",
      "293735         1  Downstairs  -4.06   8.08  4.790000         36.1         91   \n",
      "293736         1  Downstairs  -6.32   8.66  4.940000         36.3         95   \n",
      "293737         1  Downstairs  -5.37  11.22  3.060000         36.3         95   \n",
      "293738         1  Downstairs  -5.79   9.92  2.530000         36.2         92   \n",
      "\n",
      "              Lat         Lng      No      time  \n",
      "0       35.235809  129.077699       1   0:00:00  \n",
      "1       35.235969  129.077695       2   0:00:02  \n",
      "2       35.235999  129.077640       3   0:00:04  \n",
      "3       35.235998  129.077793       4   0:00:06  \n",
      "4       35.235855  129.077650       5   0:00:08  \n",
      "...           ...         ...     ...       ...  \n",
      "293734  35.235978  129.077768  293735  19:11:08  \n",
      "293735  35.235911  129.077797  293736  19:11:10  \n",
      "293736  35.235867  129.077679  293737  19:11:12  \n",
      "293737  35.235837  129.077697  293738  19:11:14  \n",
      "293738  35.235915  129.077723  293739  19:11:16  \n",
      "\n",
      "[285521 rows x 11 columns]\n"
     ]
    }
   ],
   "source": [
    "# 결측치가 삭제된 DataFrame 생성\n",
    "df_cleaned = df[~(df.eq(0).sum(axis=1) > 0)]\n",
    "\n",
    "# 결과 확인\n",
    "print(df_cleaned)"
   ],
   "metadata": {
    "collapsed": false,
    "ExecuteTime": {
     "end_time": "2023-05-26T01:28:51.100528100Z",
     "start_time": "2023-05-26T01:28:50.993287600Z"
    }
   }
  },
  {
   "cell_type": "code",
   "execution_count": 56,
   "outputs": [
    {
     "data": {
      "text/plain": "UserCode       0\nLabel          0\nGyroX          0\nGyroY          0\nGyroZ          0\nTemperature    0\nHeartbeat      0\nLat            0\nLng            0\nNo             0\ntime           0\ndtype: int64"
     },
     "execution_count": 56,
     "metadata": {},
     "output_type": "execute_result"
    }
   ],
   "source": [
    "# 값이 0인 요소 찾기\n",
    "df_cleaned.eq(0).sum()"
   ],
   "metadata": {
    "collapsed": false,
    "ExecuteTime": {
     "end_time": "2023-05-26T01:28:55.705108100Z",
     "start_time": "2023-05-26T01:28:55.658266100Z"
    }
   }
  },
  {
   "cell_type": "code",
   "execution_count": 57,
   "outputs": [
    {
     "name": "stdout",
     "output_type": "stream",
     "text": [
      "X_train:\n",
      "        Temperature  Heartbeat  GyroX  GyroY     GyroZ\n",
      "203563         36.4         94   3.53  -9.08 -6.930000\n",
      "120467         36.8         95   3.68  11.69 -0.612916\n",
      "276272         36.2         93   0.72   1.99 -3.380000\n",
      "102708         36.9         92  -1.33  17.82 -0.844462\n",
      "65800          36.4         94   0.04   8.73  2.792171\n",
      "...             ...        ...    ...    ...       ...\n",
      "119879         36.8         92  -2.87   5.71 -5.175732\n",
      "259178         36.3         94  -0.65  11.22  0.650000\n",
      "131932         36.3         95   5.90  10.50 -0.694638\n",
      "146867         36.2         94  -3.83  18.58  3.486809\n",
      "121958         36.8         91  -2.60  11.54 -2.914754\n",
      "\n",
      "[205617 rows x 5 columns]\n",
      "y_train:\n",
      "203563       Jogging\n",
      "120467       Walking\n",
      "276272       Walking\n",
      "102708       Jogging\n",
      "65800     Downstairs\n",
      "             ...    \n",
      "119879       Walking\n",
      "259178       Walking\n",
      "131932       Walking\n",
      "146867    Downstairs\n",
      "121958    Downstairs\n",
      "Name: Label, Length: 205617, dtype: object\n",
      "X_test:\n",
      "        Temperature  Heartbeat  GyroX  GyroY      GyroZ\n",
      "222111         36.5         95   3.53  14.75  -0.110000\n",
      "59545          36.5         91   1.50  18.96  15.513576\n",
      "9919           36.9         91  19.23  17.12   0.762740\n",
      "35403          36.8         92   0.95   9.81   1.947710\n",
      "32236          36.7         93  -3.41   6.63   3.949901\n",
      "...             ...        ...    ...    ...        ...\n",
      "288748         36.1         91  -0.19   1.46   3.720000\n",
      "58015          36.5         93   6.32  18.50  12.489859\n",
      "76648          36.4         94   4.14   0.80   0.422231\n",
      "87544          36.6         90   0.11   4.71  -3.214402\n",
      "163904         36.7         92   0.76   5.18   8.500000\n",
      "\n",
      "[88122 rows x 5 columns]\n",
      "y_test:\n",
      "222111       Walking\n",
      "59545        Jogging\n",
      "9919         Jogging\n",
      "35403     Downstairs\n",
      "32236     Downstairs\n",
      "             ...    \n",
      "288748      Upstairs\n",
      "58015        Jogging\n",
      "76648        Jogging\n",
      "87544        Walking\n",
      "163904          Fall\n",
      "Name: Label, Length: 88122, dtype: object\n"
     ]
    }
   ],
   "source": [
    "from sklearn.model_selection import train_test_split\n",
    "\n",
    "# 특성과 타겟 데이터로 분할\n",
    "X = df[['Temperature','Heartbeat','GyroX','GyroY','GyroZ']]\n",
    "y = df['Label']\n",
    "\n",
    "# 테스트 세트와 트레인 세트로 분할 (70% 트레인, 30% 테스트)\n",
    "X_train, X_test, y_train, y_test = train_test_split(X, y, test_size=0.3, random_state=42)\n",
    "\n",
    "# 결과 확인\n",
    "print(\"X_train:\")\n",
    "print(X_train)\n",
    "print(\"y_train:\")\n",
    "print(y_train)\n",
    "print(\"X_test:\")\n",
    "print(X_test)\n",
    "print(\"y_test:\")\n",
    "print(y_test)"
   ],
   "metadata": {
    "collapsed": false,
    "ExecuteTime": {
     "end_time": "2023-05-26T01:29:03.048164200Z",
     "start_time": "2023-05-26T01:29:02.985658200Z"
    }
   }
  },
  {
   "cell_type": "code",
   "execution_count": 58,
   "outputs": [],
   "source": [
    "from sklearn.preprocessing import StandardScaler\n",
    "\n",
    "# 표준화\n",
    "scaler = StandardScaler()\n",
    "X_train = scaler.fit_transform(X_train)\n",
    "X_test = scaler.transform(X_test)"
   ],
   "metadata": {
    "collapsed": false,
    "ExecuteTime": {
     "end_time": "2023-05-26T01:29:34.514006500Z",
     "start_time": "2023-05-26T01:29:34.468063900Z"
    }
   }
  },
  {
   "cell_type": "code",
   "execution_count": null,
   "outputs": [],
   "source": [],
   "metadata": {
    "collapsed": false
   }
  }
 ],
 "metadata": {
  "kernelspec": {
   "display_name": "Python 3",
   "language": "python",
   "name": "python3"
  },
  "language_info": {
   "codemirror_mode": {
    "name": "ipython",
    "version": 2
   },
   "file_extension": ".py",
   "mimetype": "text/x-python",
   "name": "python",
   "nbconvert_exporter": "python",
   "pygments_lexer": "ipython2",
   "version": "2.7.6"
  }
 },
 "nbformat": 4,
 "nbformat_minor": 0
}
