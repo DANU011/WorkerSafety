{
 "cells": [
  {
   "cell_type": "code",
   "execution_count": 2,
   "metadata": {
    "collapsed": true,
    "ExecuteTime": {
     "end_time": "2023-05-18T05:24:24.546642100Z",
     "start_time": "2023-05-18T05:24:24.243317800Z"
    }
   },
   "outputs": [],
   "source": [
    "import pandas as pd\n",
    "import glob"
   ]
  },
  {
   "cell_type": "code",
   "execution_count": 3,
   "outputs": [],
   "source": [
    "# CSV 파일들의 경로\n",
    "file_paths = glob.glob('../data/*.csv')\n",
    "\n",
    "# 데이터를 저장할 빈 DataFrame을 생성\n",
    "combined_data = pd.DataFrame()\n",
    "\n",
    "# 각 파일을 순회하며 \"data_user\"가 포함된 파일만 합치기\n",
    "for file_path in file_paths:\n",
    "    if 'data_user' in file_path:\n",
    "        data = pd.read_csv(file_path)\n",
    "        combined_data = pd.concat([combined_data, data])\n",
    "\n",
    "# 결과를 새로운 CSV 파일로 저장\n",
    "combined_data.to_csv('../data/combined_data.csv', index=False)\n"
   ],
   "metadata": {
    "collapsed": false,
    "ExecuteTime": {
     "end_time": "2023-05-18T05:24:25.365105700Z",
     "start_time": "2023-05-18T05:24:25.302646300Z"
    }
   }
  },
  {
   "cell_type": "code",
   "execution_count": 6,
   "outputs": [
    {
     "data": {
      "text/plain": "   No  UserCode  Heartbeat  Temperature  Spo2  GyroX  GyroY  GyroZ VitalDate\n0   1         1         61         36.6  98.0  -0.15   9.15  -0.34  14:48:49\n1   2         1         70         37.0  97.0   0.11   9.19   2.76  14:49:38\n2   3         1         64         37.2  96.0  -4.06   7.40   4.02  14:50:27\n3   4         1         65         37.4  95.0  -2.87   7.93   3.21  14:51:16\n4   5         1         62         37.4  95.0  -0.19  10.04   4.82  14:52:05",
      "text/html": "<div>\n<style scoped>\n    .dataframe tbody tr th:only-of-type {\n        vertical-align: middle;\n    }\n\n    .dataframe tbody tr th {\n        vertical-align: top;\n    }\n\n    .dataframe thead th {\n        text-align: right;\n    }\n</style>\n<table border=\"1\" class=\"dataframe\">\n  <thead>\n    <tr style=\"text-align: right;\">\n      <th></th>\n      <th>No</th>\n      <th>UserCode</th>\n      <th>Heartbeat</th>\n      <th>Temperature</th>\n      <th>Spo2</th>\n      <th>GyroX</th>\n      <th>GyroY</th>\n      <th>GyroZ</th>\n      <th>VitalDate</th>\n    </tr>\n  </thead>\n  <tbody>\n    <tr>\n      <th>0</th>\n      <td>1</td>\n      <td>1</td>\n      <td>61</td>\n      <td>36.6</td>\n      <td>98.0</td>\n      <td>-0.15</td>\n      <td>9.15</td>\n      <td>-0.34</td>\n      <td>14:48:49</td>\n    </tr>\n    <tr>\n      <th>1</th>\n      <td>2</td>\n      <td>1</td>\n      <td>70</td>\n      <td>37.0</td>\n      <td>97.0</td>\n      <td>0.11</td>\n      <td>9.19</td>\n      <td>2.76</td>\n      <td>14:49:38</td>\n    </tr>\n    <tr>\n      <th>2</th>\n      <td>3</td>\n      <td>1</td>\n      <td>64</td>\n      <td>37.2</td>\n      <td>96.0</td>\n      <td>-4.06</td>\n      <td>7.40</td>\n      <td>4.02</td>\n      <td>14:50:27</td>\n    </tr>\n    <tr>\n      <th>3</th>\n      <td>4</td>\n      <td>1</td>\n      <td>65</td>\n      <td>37.4</td>\n      <td>95.0</td>\n      <td>-2.87</td>\n      <td>7.93</td>\n      <td>3.21</td>\n      <td>14:51:16</td>\n    </tr>\n    <tr>\n      <th>4</th>\n      <td>5</td>\n      <td>1</td>\n      <td>62</td>\n      <td>37.4</td>\n      <td>95.0</td>\n      <td>-0.19</td>\n      <td>10.04</td>\n      <td>4.82</td>\n      <td>14:52:05</td>\n    </tr>\n  </tbody>\n</table>\n</div>"
     },
     "execution_count": 6,
     "metadata": {},
     "output_type": "execute_result"
    }
   ],
   "source": [
    "# 데이터 불러오기\n",
    "df = pd.read_csv('../data/combined_data.csv')\n",
    "\n",
    "# 데이터 확인\n",
    "df.head()"
   ],
   "metadata": {
    "collapsed": false,
    "ExecuteTime": {
     "end_time": "2023-05-18T05:24:42.621769200Z",
     "start_time": "2023-05-18T05:24:42.593207300Z"
    }
   }
  },
  {
   "cell_type": "code",
   "execution_count": null,
   "outputs": [],
   "source": [],
   "metadata": {
    "collapsed": false
   }
  }
 ],
 "metadata": {
  "kernelspec": {
   "display_name": "Python 3",
   "language": "python",
   "name": "python3"
  },
  "language_info": {
   "codemirror_mode": {
    "name": "ipython",
    "version": 2
   },
   "file_extension": ".py",
   "mimetype": "text/x-python",
   "name": "python",
   "nbconvert_exporter": "python",
   "pygments_lexer": "ipython2",
   "version": "2.7.6"
  }
 },
 "nbformat": 4,
 "nbformat_minor": 0
}
